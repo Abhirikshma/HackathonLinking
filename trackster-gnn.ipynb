{
 "cells": [
  {
   "cell_type": "code",
   "execution_count": 16,
   "id": "35611454",
   "metadata": {},
   "outputs": [
    {
     "name": "stderr",
     "output_type": "stream",
     "text": [
      "/home/abhirikshma/hgcalML/env/lib/python3.9/site-packages/torch_geometric/graphgym/config.py:19: UserWarning: Could not define global config object. Please install 'yacs' for using the GraphGym experiment manager.\n",
      "  warnings.warn(\"Could not define global config object. Please install \"\n"
     ]
    }
   ],
   "source": [
    "import awkward as ak\n",
    "import numpy as np\n",
    "import matplotlib.pyplot as plt\n",
    "import pickle\n",
    "import torch\n",
    "from torch import nn\n",
    "import torch.nn.functional as F\n",
    "import torch_geometric.transforms as T\n",
    "from torch_geometric.nn import EdgeConv\n",
    "from torch_geometric.data import Data\n",
    "from torch_geometric.loader import DataLoader\n",
    "from torch_geometric.graphgym import params_count\n",
    "import torch_geometric.utils as Utils\n",
    "from sklearn.metrics import confusion_matrix\n",
    "#import mplhep as hep"
   ]
  },
  {
   "cell_type": "code",
   "execution_count": 2,
   "id": "6f8d661a",
   "metadata": {},
   "outputs": [],
   "source": [
    "class GraphNet(nn.Module):\n",
    "    def __init__(self, input_dim = 8, hidden_dim = 64, output_dim = 1, aggr = 'add', niters = 3):\n",
    "        super(GraphNet, self).__init__()\n",
    "        \n",
    "        # transform to latent space\n",
    "        self.inputnetwork = nn.Sequential(\n",
    "            nn.Linear(input_dim, hidden_dim),\n",
    "            nn.BatchNorm1d(hidden_dim),\n",
    "            nn.Tanh(),\n",
    "            nn.Dropout(0.2),\n",
    "            nn.Linear(hidden_dim, hidden_dim),\n",
    "            nn.ReLU()\n",
    "        )\n",
    "        \n",
    "        # to compute messages\n",
    "        convnetwork = nn.Sequential(\n",
    "            nn.Linear(2 * hidden_dim, 2 * hidden_dim),\n",
    "            nn.ReLU(),\n",
    "            nn.Dropout(0.2),\n",
    "            nn.Linear(2 * hidden_dim, hidden_dim),\n",
    "            nn.ReLU()\n",
    "        )\n",
    "        \n",
    "        # EdgeConv\n",
    "        self.graphconv = EdgeConv(nn=convnetwork, aggr=aggr)\n",
    "        \n",
    "        # edge features from node embeddings for classification\n",
    "        self.edgenetwork = nn.Sequential(\n",
    "            nn.Linear(2 * hidden_dim, hidden_dim),\n",
    "            nn.ReLU(),\n",
    "            nn.Dropout(0.2),\n",
    "            nn.Linear(hidden_dim, output_dim),\n",
    "            nn.Sigmoid()\n",
    "        )\n",
    "        \n",
    "        self.niters = niters\n",
    "    \n",
    "    def forward(self, data):\n",
    "        X = data.x\n",
    "        #print(f\"edges {data.num_edges}\")\n",
    "        #print(f\"initial X size {X.size()}\")\n",
    "        H = self.inputnetwork(X)\n",
    "        #print(f\"size after inputnet {H.size()}\")\n",
    "        for i in range(self.niters):\n",
    "            (prepared_edges, _) = Utils.add_self_loops(data.edge_index)\n",
    "            H = self.graphconv(H, Utils.to_undirected(prepared_edges))\n",
    "            #print(f\"size of H after {i}th iter {H.size()}\")\n",
    "            \n",
    "        src, dst = data.edge_index\n",
    "        #print(f\"src size {H[src].size()} dest size {H[dst].size()}\")\n",
    "        #print(f\"torch cat {torch.cat([H[src], H[dst]], dim=-1).size()}\")\n",
    "        #print(f\"GraphNet returns {self.edgenetwork(torch.cat([H[src], H[dst]], dim=-1)).squeeze(-1).size()}\")\n",
    "        #print(f\"score size {(H[src] * H[dst]).sum(dim=-1)}\")\n",
    "        #return (H[src] * H[dst]).sum(dim=-1)\n",
    "        return self.edgenetwork(torch.cat([H[src], H[dst]], dim=-1)).squeeze(-1)"
   ]
  },
  {
   "cell_type": "code",
   "execution_count": 3,
   "id": "a4a154fe",
   "metadata": {},
   "outputs": [],
   "source": [
    "# Load data\n",
    "f = \"dataset_closeByDoublePion/\"\n",
    "with open(f+\"node_features\", \"rb\") as fp:\n",
    "    X = pickle.load(fp)\n",
    "    \n",
    "with open(f+\"edges\", \"rb\") as fp:\n",
    "    Edges = pickle.load(fp)\n",
    "    \n",
    "with open(f+\"edges_labels\", \"rb\") as fp:\n",
    "    Edge_labels = pickle.load(fp)"
   ]
  },
  {
   "cell_type": "code",
   "execution_count": 4,
   "id": "9a50f76d",
   "metadata": {},
   "outputs": [
    {
     "name": "stdout",
     "output_type": "stream",
     "text": [
      "event 151 edges []\n",
      "event 7097 edges []\n",
      "event 7409 edges []\n",
      "event 7966 edges []\n",
      "event 10130 edges []\n",
      "event 10375 edges []\n",
      "event 15526 edges []\n",
      "event 19978 edges []\n"
     ]
    }
   ],
   "source": [
    "# process data\n",
    "edge_data = []\n",
    "edge_label = []\n",
    "node_data = []\n",
    "for ev in range(len(X)):\n",
    "    if len(Edges[ev]) == 0:\n",
    "        print(f\"event {ev} edges {Edges[ev]}\")\n",
    "        continue # skip events with no edges\n",
    "    else:\n",
    "        X_ev = []\n",
    "        edge_data.append(Edges[ev])\n",
    "        edge_label.append([np.float32(edg) for edg in Edge_labels[ev]])\n",
    "        for field in X[ev].fields:\n",
    "            X_ev.append(ak.to_numpy(X[ev][field]))\n",
    "        node_data.append(X_ev)"
   ]
  },
  {
   "cell_type": "code",
   "execution_count": 5,
   "id": "17759db7",
   "metadata": {},
   "outputs": [],
   "source": [
    "data_list = []\n",
    "process_events = 10000 # len(node_data)\n",
    "for ev in range(process_events):\n",
    "    x = torch.from_numpy(np.array(node_data[ev]).T)\n",
    "    e_label = torch.from_numpy(np.array(edge_label[ev]))\n",
    "    edge_index = torch.from_numpy(edge_data[ev])\n",
    "    data = Data(x=x, num_nodes=torch.tensor(x.shape[0]), edge_index=edge_index, edge_label=e_label)\n",
    "    data_list.append(data)"
   ]
  },
  {
   "cell_type": "code",
   "execution_count": 6,
   "id": "c69f8524",
   "metadata": {},
   "outputs": [],
   "source": [
    "# split into train, val, test sets\n",
    "\n",
    "trainRatio = 0.8\n",
    "valRatio = 0.1\n",
    "testRatio = 0.1\n",
    "\n",
    "nSamples = len(data_list)\n",
    "\n",
    "nTrain = int( trainRatio * nSamples  )\n",
    "nVal = int( valRatio * nSamples )\n",
    "\n",
    "trainDataset = data_list[:nTrain]           # training dataset\n",
    "valDataset = data_list[nTrain:nTrain+nVal]  # validation dataset\n",
    "testDataset = data_list[nTrain+nVal:]       # test dataset"
   ]
  },
  {
   "cell_type": "code",
   "execution_count": 7,
   "id": "e105a8c1",
   "metadata": {},
   "outputs": [
    {
     "data": {
      "text/plain": [
       "8000"
      ]
     },
     "execution_count": 7,
     "metadata": {},
     "output_type": "execute_result"
    }
   ],
   "source": [
    "len(trainDataset)"
   ]
  },
  {
   "cell_type": "code",
   "execution_count": 8,
   "id": "1130dea0",
   "metadata": {},
   "outputs": [
    {
     "name": "stdout",
     "output_type": "stream",
     "text": [
      "Total edges in training : 2290752\n",
      "True edges : 1789204\n",
      "False edges : 501548\n"
     ]
    }
   ],
   "source": [
    "# Imbalance in training\n",
    "train_edges_total = 0\n",
    "train_edges_true = 0\n",
    "train_edges_false = 0\n",
    "\n",
    "for tr_data in trainDataset:\n",
    "    train_edges_total += len(tr_data.edge_index[0])\n",
    "    for label in tr_data.edge_label:\n",
    "        if label.numpy() == 0:\n",
    "            train_edges_false += 1\n",
    "        elif label.numpy() == 1:\n",
    "            train_edges_true += 1\n",
    "        \n",
    "print(f\"Total edges in training : {train_edges_total}\")\n",
    "print(f\"True edges : {train_edges_true}\")\n",
    "print(f\"False edges : {train_edges_false}\")\n",
    "\n",
    "# edges in test dataset\n",
    "test_edges_total = 0\n",
    "for test_data in testDataset:\n",
    "    test_edges_total += len(test_data.edge_index[0])"
   ]
  },
  {
   "cell_type": "code",
   "execution_count": 9,
   "id": "eaedd574",
   "metadata": {},
   "outputs": [
    {
     "name": "stdout",
     "output_type": "stream",
     "text": [
      "Weights True, False edges : 0.6401595346310426, 2.283681721390575\n"
     ]
    }
   ],
   "source": [
    "# Calculate weights\n",
    "w_false = train_edges_total/(2*train_edges_false)\n",
    "w_true = train_edges_total/(2*train_edges_true)\n",
    "print(f\"Weights True, False edges : {w_true}, {w_false}\")"
   ]
  },
  {
   "cell_type": "code",
   "execution_count": 10,
   "id": "ecd87322",
   "metadata": {},
   "outputs": [],
   "source": [
    "def focal_loss(bce_loss, targets, gamma, alpha):\n",
    "    \"\"\"Binary focal loss, mean.\n",
    "\n",
    "    Per https://discuss.pytorch.org/t/is-this-a-correct-implementation-for-focal-loss-in-pytorch/43327/5 with\n",
    "    improvements for alpha.\n",
    "    :param bce_loss: Binary Cross Entropy loss, a torch tensor.\n",
    "    :param targets: a torch tensor containing the ground truth, 0s and 1s.\n",
    "    :param gamma: focal loss power parameter, a float scalar.\n",
    "    :param alpha: weight of the class indicated by 1, a float scalar.\n",
    "    \"\"\"\n",
    "    p_t = torch.exp(-bce_loss)\n",
    "    alpha_tensor = (1 - alpha) + targets * (2 * alpha - 1)  # alpha if target = 1 and 1 - alpha if target = 0\n",
    "    f_loss = alpha_tensor * (1 - p_t) ** gamma * bce_loss\n",
    "    return f_loss.mean()"
   ]
  },
  {
   "cell_type": "code",
   "execution_count": 11,
   "id": "6e7a7a8f",
   "metadata": {},
   "outputs": [
    {
     "name": "stdout",
     "output_type": "stream",
     "text": [
      "epoch 0 - train loss 0.0617 - val loss 0.0344\n",
      "epoch 1 - train loss 0.0339 - val loss 0.0323\n",
      "epoch 2 - train loss 0.0316 - val loss 0.0299\n",
      "epoch 3 - train loss 0.0300 - val loss 0.0287\n",
      "epoch 4 - train loss 0.0293 - val loss 0.0281\n",
      "epoch 5 - train loss 0.0287 - val loss 0.0278\n",
      "epoch 6 - train loss 0.0283 - val loss 0.0272\n",
      "epoch 7 - train loss 0.0278 - val loss 0.0269\n",
      "epoch 8 - train loss 0.0273 - val loss 0.0266\n",
      "epoch 9 - train loss 0.0271 - val loss 0.0267\n",
      "epoch 10 - train loss 0.0268 - val loss 0.0261\n",
      "epoch 11 - train loss 0.0266 - val loss 0.0258\n",
      "epoch 12 - train loss 0.0265 - val loss 0.0257\n",
      "epoch 13 - train loss 0.0263 - val loss 0.0253\n",
      "epoch 14 - train loss 0.0261 - val loss 0.0251\n",
      "epoch 15 - train loss 0.0261 - val loss 0.0254\n",
      "epoch 16 - train loss 0.0258 - val loss 0.0248\n",
      "epoch 17 - train loss 0.0255 - val loss 0.0245\n",
      "epoch 18 - train loss 0.0255 - val loss 0.0244\n",
      "epoch 19 - train loss 0.0252 - val loss 0.0244\n"
     ]
    }
   ],
   "source": [
    "# Training\n",
    "\n",
    "epochs = 20\n",
    "batch_size = 32\n",
    "\n",
    "device = torch.device('cuda' if torch.cuda.is_available() else 'cpu')\n",
    "model = GraphNet().to(device)\n",
    "#data = data_list.to(device)\n",
    "trainLoader = DataLoader(trainDataset, batch_size=batch_size)\n",
    "valLoader = DataLoader(valDataset, batch_size=batch_size)\n",
    "optimizer = torch.optim.Adam(model.parameters(), lr=0.001, weight_decay=5e-4)\n",
    "\n",
    "train_loss_history = []\n",
    "val_loss_history = []\n",
    "model.train()\n",
    "for epoch in range(epochs):\n",
    "    batchloss = []\n",
    "    for sample in trainLoader:\n",
    "        optimizer.zero_grad()\n",
    "        sample.to(device)\n",
    "        out = model(sample)\n",
    "#         weight = [w_true if l > 0.9 else w_false for l in sample.edge_label] # weigh edges\n",
    "#         loss = F.binary_cross_entropy(out, sample.edge_label, weight=torch.tensor(weight))\n",
    "        bce_loss = F.binary_cross_entropy(out, sample.edge_label)\n",
    "        loss = focal_loss(bce_loss, sample.edge_label, 2, 0.4)\n",
    "#         print(f\"out {out}\")\n",
    "#         print(f\"label {sample.edge_label}\")\n",
    "#         print(f\"loss {loss}\")\n",
    "        batchloss.append(loss.item())\n",
    "        loss.backward()\n",
    "        optimizer.step()\n",
    "        \n",
    "    train_loss_history.append(np.mean(batchloss))\n",
    "\n",
    "    with torch.set_grad_enabled( False ):\n",
    "        batchloss = []\n",
    "        for sample in valLoader:\n",
    "            out = model(sample)\n",
    "            #val_loss = F.binary_cross_entropy_with_logits(out, sample.edge_label)\n",
    "            val_bce = F.binary_cross_entropy(out, sample.edge_label)\n",
    "            val_loss = focal_loss(val_bce, sample.edge_label, 2, 0.4)\n",
    "            batchloss.append(val_loss.item())\n",
    "            \n",
    "    val_loss_history.append(np.mean(batchloss))\n",
    "    print(f\"epoch {epoch} - train loss {train_loss_history[-1]:.4f} - val loss {val_loss_history[-1]:.4f}\")"
   ]
  },
  {
   "cell_type": "code",
   "execution_count": 19,
   "id": "53344cfc",
   "metadata": {},
   "outputs": [
    {
     "name": "stdout",
     "output_type": "stream",
     "text": [
      "37953 parameters in model\n"
     ]
    }
   ],
   "source": [
    "print(f\"{params_count(model)} parameters in model\")"
   ]
  },
  {
   "cell_type": "code",
   "execution_count": 12,
   "id": "1332ee81",
   "metadata": {},
   "outputs": [
    {
     "data": {
      "text/plain": [
       "<matplotlib.legend.Legend at 0x7fcdf1bb01c0>"
      ]
     },
     "execution_count": 12,
     "metadata": {},
     "output_type": "execute_result"
    },
    {
     "data": {
      "image/png": "[encoded data removed]",
      "text/plain": [
       "<Figure size 432x288 with 1 Axes>"
      ]
     },
     "metadata": {
      "needs_background": "light"
     },
     "output_type": "display_data"
    }
   ],
   "source": [
    "plt.plot(train_loss_history, label='train')\n",
    "plt.plot(val_loss_history, label='val')\n",
    "plt.ylabel(\"Loss\")\n",
    "plt.xlabel(\"Epochs\")\n",
    "plt.xticks(range(epochs), range(1, epochs+1))\n",
    "plt.legend()"
   ]
  },
  {
   "cell_type": "code",
   "execution_count": null,
   "id": "19843531",
   "metadata": {},
   "outputs": [],
   "source": [
    "# Save model so as not to repeat the training\n",
    "PATH = \"model/trackster_graphconv\"\n",
    "torch.save(model.state_dict(), PATH)"
   ]
  },
  {
   "cell_type": "code",
   "execution_count": null,
   "id": "fd0d85b3",
   "metadata": {},
   "outputs": [],
   "source": [
    "# Load model\n",
    "device = torch.device('cuda' if torch.cuda.is_available() else 'cpu')\n",
    "model_test = GraphNet()\n",
    "model_test.load_state_dict(torch.load(PATH))\n",
    "model_test.eval()\n",
    "model_test.to(device)"
   ]
  },
  {
   "cell_type": "code",
   "execution_count": 13,
   "id": "95170e98",
   "metadata": {},
   "outputs": [
    {
     "name": "stdout",
     "output_type": "stream",
     "text": [
      "loaded\n",
      "Accuracy in test data 71.4623 %\n",
      "Confusion matrix [[ 44726  18532]\n",
      " [ 64122 161202]]\n"
     ]
    }
   ],
   "source": [
    "classification_threshold = 0.7\n",
    "def getAccuracy(y_true, y_prob):\n",
    "    assert y_true.ndim == 1 and y_true.size() == y_prob.size()\n",
    "    y_prob = y_prob > classification_threshold\n",
    "    return (y_true == y_prob).sum().item() / y_true.size(0)\n",
    "\n",
    "testLoader = DataLoader(testDataset, batch_size=32)\n",
    "print(\"loaded\")\n",
    "\n",
    "predictions = []\n",
    "truth = []\n",
    "accuracies = []\n",
    "\n",
    "for sample in testLoader:\n",
    "    sample.to(device)\n",
    "    out = model(sample)\n",
    "    #print(f\"out {out}\")\n",
    "    acc = getAccuracy(sample.edge_label, out)\n",
    "    accuracies.append(acc)\n",
    "    #print(f\"out {acc}\")\n",
    "    y_test = out > classification_threshold\n",
    "    predictions.append(y_test.numpy())\n",
    "    truth.append(sample.edge_label.numpy())\n",
    "    \n",
    "cf_matrix = confusion_matrix(np.concatenate(truth), np.concatenate(predictions))\n",
    "#cf_matrix = confusion_matrix(sample.edge_label.detach().numpy(), y_test.detach().numpy())\n",
    "print(f\"Accuracy in test data {np.mean(accuracies)*100:.4f} %\")\n",
    "print(f\"Confusion matrix {cf_matrix}\")"
   ]
  },
  {
   "cell_type": "code",
   "execution_count": 14,
   "id": "f295f5d6",
   "metadata": {},
   "outputs": [
    {
     "data": {
      "text/plain": [
       "array([[0.15498541, 0.06421745],\n",
       "       [0.22219681, 0.55860033]])"
      ]
     },
     "execution_count": 14,
     "metadata": {},
     "output_type": "execute_result"
    }
   ],
   "source": [
    "# normalized to total edges in test dataset\n",
    "cf_matrix/test_edges_total"
   ]
  },
  {
   "cell_type": "code",
   "execution_count": 15,
   "id": "31da276e",
   "metadata": {},
   "outputs": [
    {
     "name": "stdout",
     "output_type": "stream",
     "text": [
      "TN: 44726, FP: 18532, FN: 64122, TP: 161202\n"
     ]
    },
    {
     "data": {
      "text/plain": [
       "<matplotlib.colorbar.Colorbar at 0x7fcdf09ad190>"
      ]
     },
     "execution_count": 15,
     "metadata": {},
     "output_type": "execute_result"
    },
    {
     "data": {
      "image/png": "[encoded data removed]",
      "text/plain": [
       "<Figure size 540x540 with 2 Axes>"
      ]
     },
     "metadata": {
      "needs_background": "light"
     },
     "output_type": "display_data"
    }
   ],
   "source": [
    "tn, fp, fn, tp = cf_matrix.ravel()\n",
    "print(f\"TN: {tn}, FP: {fp}, FN: {fn}, TP: {tp}\")\n",
    "fig, px = plt.subplots(figsize=(7.5, 7.5))\n",
    "px.set_xlabel(\"predicted\")\n",
    "px.set_ylabel(\"true\")\n",
    "cax = px.matshow(cf_matrix)\n",
    "fig.colorbar(cax)"
   ]
  },
  {
   "cell_type": "code",
   "execution_count": null,
   "id": "ebd8ee7f",
   "metadata": {},
   "outputs": [],
   "source": []
  }
 ],
 "metadata": {
  "kernelspec": {
   "display_name": "Python 3 (ipykernel)",
   "language": "python",
   "name": "python3"
  },
  "language_info": {
   "codemirror_mode": {
    "name": "ipython",
    "version": 3
   },
   "file_extension": ".py",
   "mimetype": "text/x-python",
   "name": "python",
   "nbconvert_exporter": "python",
   "pygments_lexer": "ipython3",
   "version": "3.9.7"
  }
 },
 "nbformat": 4,
 "nbformat_minor": 5
}
