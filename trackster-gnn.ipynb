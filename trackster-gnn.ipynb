{
 "cells": [
  {
   "cell_type": "code",
   "execution_count": 20,
   "id": "35611454",
   "metadata": {},
   "outputs": [],
   "source": [
    "import awkward as ak\n",
    "import numpy as np\n",
    "import matplotlib.pyplot as plt\n",
    "import pickle\n",
    "import torch\n",
    "from torch import nn\n",
    "import torch.nn.functional as F\n",
    "import torch_geometric.transforms as T\n",
    "from torch_geometric.nn import EdgeConv\n",
    "from torch_geometric.data import Data\n",
    "from torch_geometric.loader import DataLoader\n",
    "from sklearn.metrics import confusion_matrix\n",
    "import mplhep as hep"
   ]
  },
  {
   "cell_type": "code",
   "execution_count": 2,
   "id": "6f8d661a",
   "metadata": {},
   "outputs": [],
   "source": [
    "class GraphNet(nn.Module):\n",
    "    def __init__(self, input_dim = 8, hidden_dim = 64, output_dim = 1, aggr = 'add', niters = 2):\n",
    "        super(GraphNet, self).__init__()\n",
    "        \n",
    "        # transform to latent space\n",
    "        self.inputnetwork = nn.Sequential(\n",
    "            nn.Linear(input_dim, hidden_dim),\n",
    "            nn.BatchNorm1d(hidden_dim),\n",
    "            nn.Tanh()\n",
    "        )\n",
    "        \n",
    "        # to compute messages\n",
    "        convnetwork = nn.Sequential(\n",
    "            nn.Linear(2 * hidden_dim, 2 * hidden_dim),\n",
    "            nn.ReLU(),\n",
    "            nn.Dropout(),\n",
    "            nn.Linear(2 * hidden_dim, hidden_dim),\n",
    "            nn.ReLU()\n",
    "        )\n",
    "        \n",
    "        # EdgeConv\n",
    "        self.graphconv = EdgeConv(nn=convnetwork, aggr=aggr)\n",
    "        \n",
    "        # edge features from node embeddings for classification\n",
    "        self.edgenetwork = nn.Sequential(\n",
    "            nn.Linear(2 * hidden_dim, output_dim),\n",
    "            nn.Sigmoid()\n",
    "        )\n",
    "        \n",
    "        self.niters = niters\n",
    "    \n",
    "    def forward(self, data):\n",
    "        X = data.x\n",
    "        #print(f\"edges {data.num_edges}\")\n",
    "        #print(f\"initial X size {X.size()}\")\n",
    "        H = self.inputnetwork(X)\n",
    "        #print(f\"size after inputnet {H.size()}\")\n",
    "        for i in range(self.niters):\n",
    "            H = self.graphconv(H, data.edge_index)\n",
    "            #print(f\"size of H after {i}th iter {H.size()}\")\n",
    "            \n",
    "        src, dst = data.edge_index\n",
    "        #print(f\"src size {H[src].size()} dest size {H[dst].size()}\")\n",
    "        #print(f\"torch cat {torch.cat([H[src], H[dst]], dim=-1).size()}\")\n",
    "        #print(f\"GraphNet returns {self.edgenetwork(torch.cat([H[src], H[dst]], dim=-1)).squeeze(-1).size()}\")\n",
    "        #print(f\"score size {(H[src] * H[dst]).sum(dim=-1)}\")\n",
    "        #return (H[src] * H[dst]).sum(dim=-1)\n",
    "        return self.edgenetwork(torch.cat([H[src], H[dst]], dim=-1)).squeeze(-1)"
   ]
  },
  {
   "cell_type": "code",
   "execution_count": 3,
   "id": "a4a154fe",
   "metadata": {},
   "outputs": [],
   "source": [
    "# Load data\n",
    "with open(\"node_features\", \"rb\") as fp:\n",
    "    X = pickle.load(fp)\n",
    "    \n",
    "with open(\"edges\", \"rb\") as fp:\n",
    "    Edges = pickle.load(fp)\n",
    "    \n",
    "with open(\"edges_labels\", \"rb\") as fp:\n",
    "    Edge_labels = pickle.load(fp)"
   ]
  },
  {
   "cell_type": "code",
   "execution_count": 4,
   "id": "9a50f76d",
   "metadata": {},
   "outputs": [
    {
     "name": "stdout",
     "output_type": "stream",
     "text": [
      "event 151 edges []\n"
     ]
    }
   ],
   "source": [
    "# process data\n",
    "edge_data = []\n",
    "edge_label = []\n",
    "node_data = []\n",
    "for ev in range(len(X)):\n",
    "    if len(Edges[ev]) == 0:\n",
    "        print(f\"event {ev} edges {Edges[ev]}\")\n",
    "        continue # skip events with no edges\n",
    "    else:\n",
    "        X_ev = []\n",
    "        edge_data.append(Edges[ev])\n",
    "        edge_label.append([np.float32(edg) for edg in Edge_labels[ev]])\n",
    "        for field in X[ev].fields:\n",
    "            X_ev.append(ak.to_numpy(X[ev][field]))\n",
    "        node_data.append(X_ev)"
   ]
  },
  {
   "cell_type": "code",
   "execution_count": 5,
   "id": "17759db7",
   "metadata": {},
   "outputs": [],
   "source": [
    "data_list = []\n",
    "for ev in range(len(node_data)):\n",
    "    x = torch.from_numpy(np.array(node_data[ev]).T)\n",
    "    e_label = torch.from_numpy(np.array(edge_label[ev]))\n",
    "    edge_index = torch.from_numpy(edge_data[ev])\n",
    "    data = Data(x=x, num_nodes=torch.tensor(x.shape[0]), edge_index=edge_index, edge_label=e_label)\n",
    "    data_list.append(data)"
   ]
  },
  {
   "cell_type": "code",
   "execution_count": 6,
   "id": "c69f8524",
   "metadata": {},
   "outputs": [],
   "source": [
    "# split into train, val, test sets\n",
    "\n",
    "trainRatio = 0.8\n",
    "valRatio = 0.1\n",
    "testRatio = 0.1\n",
    "\n",
    "nSamples = len(data_list)\n",
    "\n",
    "nTrain = int( trainRatio * nSamples  )\n",
    "nVal = int( valRatio * nSamples )\n",
    "\n",
    "trainDataset = data_list[:nTrain]           # training dataset\n",
    "valDataset = data_list[nTrain:nTrain+nVal]  # validation dataset\n",
    "testDataset = data_list[nTrain+nVal:]       # test dataset"
   ]
  },
  {
   "cell_type": "code",
   "execution_count": 10,
   "id": "e105a8c1",
   "metadata": {},
   "outputs": [
    {
     "data": {
      "text/plain": [
       "501"
      ]
     },
     "execution_count": 10,
     "metadata": {},
     "output_type": "execute_result"
    }
   ],
   "source": [
    "len(testDataset)"
   ]
  },
  {
   "cell_type": "code",
   "execution_count": 17,
   "id": "6e7a7a8f",
   "metadata": {},
   "outputs": [
    {
     "name": "stdout",
     "output_type": "stream",
     "text": [
      "epoch 0 - train loss 0.731588180065155 - val loss 0.5781312920153141\n",
      "epoch 1 - train loss 0.5458562631607056 - val loss 0.5414510611444712\n",
      "epoch 2 - train loss 0.5261508481502533 - val loss 0.5258158687502146\n",
      "epoch 3 - train loss 0.514261709690094 - val loss 0.5201858691871166\n",
      "epoch 4 - train loss 0.5075205550193786 - val loss 0.5150054935365915\n",
      "epoch 5 - train loss 0.5023040878772735 - val loss 0.5101270582526922\n",
      "epoch 6 - train loss 0.49872483134269713 - val loss 0.508313488215208\n",
      "epoch 7 - train loss 0.49529837107658387 - val loss 0.5061880890280008\n",
      "epoch 8 - train loss 0.4926343777179718 - val loss 0.5050541218370199\n",
      "epoch 9 - train loss 0.4910788779258728 - val loss 0.5041733309626579\n",
      "epoch 10 - train loss 0.4889826047420502 - val loss 0.5011542961001396\n",
      "epoch 11 - train loss 0.4863084065914154 - val loss 0.5002899803221226\n",
      "epoch 12 - train loss 0.4849181125164032 - val loss 0.4976485073566437\n",
      "epoch 13 - train loss 0.4829326231479645 - val loss 0.49792055413126945\n",
      "epoch 14 - train loss 0.4816784818172455 - val loss 0.4964418485760689\n",
      "epoch 15 - train loss 0.48058101773262024 - val loss 0.49407642520964146\n",
      "epoch 16 - train loss 0.47939584255218504 - val loss 0.4948144592344761\n",
      "epoch 17 - train loss 0.478780620098114 - val loss 0.4916739650070667\n",
      "epoch 18 - train loss 0.4772628948688507 - val loss 0.4918807577341795\n",
      "epoch 19 - train loss 0.4763502900600433 - val loss 0.4905003048479557\n"
     ]
    }
   ],
   "source": [
    "# Training\n",
    "\n",
    "device = torch.device('cuda' if torch.cuda.is_available() else 'cpu')\n",
    "model = GraphNet().to(device)\n",
    "#data = data_list.to(device)\n",
    "trainLoader = DataLoader(trainDataset, batch_size=32)\n",
    "valLoader = DataLoader(valDataset, batch_size=32)\n",
    "optimizer = torch.optim.Adam(model.parameters(), lr=0.001, weight_decay=5e-4)\n",
    "\n",
    "train_loss_history = []\n",
    "val_loss_history = []\n",
    "model.train()\n",
    "for epoch in range(20):\n",
    "    batchloss = []\n",
    "    for sample in trainLoader:\n",
    "        optimizer.zero_grad()\n",
    "        sample.to(device)\n",
    "        out = model(sample)\n",
    "        loss = F.binary_cross_entropy(out, sample.edge_label)\n",
    "        batchloss.append(loss.item())\n",
    "        loss.backward()\n",
    "        optimizer.step()\n",
    "        \n",
    "    train_loss_history.append(np.mean(batchloss))\n",
    "\n",
    "    with torch.set_grad_enabled( False ):\n",
    "        batchloss = []\n",
    "        for sample in valLoader:\n",
    "            out = model(sample)\n",
    "            val_loss = F.binary_cross_entropy(out, sample.edge_label)\n",
    "            batchloss.append(val_loss.item())\n",
    "            \n",
    "    val_loss_history.append(np.mean(batchloss))\n",
    "    print(f\"epoch {epoch} - train loss {train_loss_history[-1]} - val loss {val_loss_history[-1]}\")"
   ]
  },
  {
   "cell_type": "code",
   "execution_count": 18,
   "id": "1332ee81",
   "metadata": {},
   "outputs": [
    {
     "data": {
      "text/plain": [
       "<matplotlib.legend.Legend at 0x7f3749e12100>"
      ]
     },
     "execution_count": 18,
     "metadata": {},
     "output_type": "execute_result"
    },
    {
     "data": {
      "image/png": "[encoded data removed]",
      "text/plain": [
       "<Figure size 432x288 with 1 Axes>"
      ]
     },
     "metadata": {
      "needs_background": "light"
     },
     "output_type": "display_data"
    }
   ],
   "source": [
    "plt.plot(range(20), train_loss_history, label='train')\n",
    "plt.plot(range(20), val_loss_history, label='val')\n",
    "plt.legend()"
   ]
  },
  {
   "cell_type": "code",
   "execution_count": 24,
   "id": "95170e98",
   "metadata": {},
   "outputs": [
    {
     "name": "stdout",
     "output_type": "stream",
     "text": [
      "Accuracy in test data 79.38115179016252 %\n",
      "[[  3599  26996]\n",
      " [  3630 114309]]\n"
     ]
    }
   ],
   "source": [
    "def getAccuracy(y_true, y_prob):\n",
    "    assert y_true.ndim == 1 and y_true.size() == y_prob.size()\n",
    "    y_prob = y_prob > 0.5\n",
    "    return (y_true == y_prob).sum().item() / y_true.size(0)\n",
    "\n",
    "trainLoader = DataLoader(trainDataset, batch_size=len(testDataset))\n",
    "\n",
    "for sample in trainLoader:\n",
    "    out = model(sample)\n",
    "    acc = getAccuracy(sample.edge_label, out)\n",
    "    y_test = out > 0.5\n",
    "    cf_matrix = confusion_matrix(sample.edge_label.detach().numpy(), y_test.detach().numpy())\n",
    "print(f\"Accuracy in test data {acc*100} %\")\n",
    "print(f\"Confusion matrix {cf_matrix}\")"
   ]
  },
  {
   "cell_type": "code",
   "execution_count": 38,
   "id": "31da276e",
   "metadata": {},
   "outputs": [
    {
     "name": "stdout",
     "output_type": "stream",
     "text": [
      "TN: 3599, FP: 26996, FN: 3630, TP: 114309\n"
     ]
    },
    {
     "data": {
      "text/plain": [
       "<matplotlib.colorbar.Colorbar at 0x7f37e0851fa0>"
      ]
     },
     "execution_count": 38,
     "metadata": {},
     "output_type": "execute_result"
    },
    {
     "data": {
      "image/png": "[encoded data removed]",
      "text/plain": [
       "<Figure size 540x540 with 2 Axes>"
      ]
     },
     "metadata": {
      "needs_background": "light"
     },
     "output_type": "display_data"
    }
   ],
   "source": [
    "tn, fp, fn, tp = cf_matrix.ravel()\n",
    "print(f\"TN: {tn}, FP: {fp}, FN: {fn}, TP: {tp}\")\n",
    "fig, px = plt.subplots(figsize=(7.5, 7.5))\n",
    "px.set_xlabel(\"predicted\")\n",
    "px.set_ylabel(\"true\")\n",
    "cax = px.matshow(cf_matrix)\n",
    "fig.colorbar(cax)"
   ]
  },
  {
   "cell_type": "code",
   "execution_count": null,
   "id": "ebd8ee7f",
   "metadata": {},
   "outputs": [],
   "source": []
  }
 ],
 "metadata": {
  "kernelspec": {
   "display_name": "Python 3 (ipykernel)",
   "language": "python",
   "name": "python3"
  },
  "language_info": {
   "codemirror_mode": {
    "name": "ipython",
    "version": 3
   },
   "file_extension": ".py",
   "mimetype": "text/x-python",
   "name": "python",
   "nbconvert_exporter": "python",
   "pygments_lexer": "ipython3",
   "version": "3.9.7"
  }
 },
 "nbformat": 4,
 "nbformat_minor": 5
}
