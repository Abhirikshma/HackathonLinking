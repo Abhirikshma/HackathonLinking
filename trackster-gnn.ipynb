{
 "cells": [
  {
   "cell_type": "code",
   "execution_count": 15,
   "id": "35611454",
   "metadata": {},
   "outputs": [],
   "source": [
    "import awkward as ak\n",
    "import numpy as np\n",
    "import matplotlib.pyplot as plt\n",
    "import pickle\n",
    "import torch\n",
    "from torch import nn\n",
    "import torch.nn.functional as F\n",
    "import torch_geometric.transforms as T\n",
    "from torch_geometric.nn import EdgeConv\n",
    "from torch_geometric.data import Data\n",
    "from torch_geometric.loader import DataLoader\n",
    "import torch_geometric.utils as Utils\n",
    "from sklearn.metrics import confusion_matrix\n",
    "#import mplhep as hep"
   ]
  },
  {
   "cell_type": "code",
   "execution_count": 2,
   "id": "6f8d661a",
   "metadata": {},
   "outputs": [],
   "source": [
    "class GraphNet(nn.Module):\n",
    "    def __init__(self, input_dim = 8, hidden_dim = 64, output_dim = 1, aggr = 'add', niters = 2):\n",
    "        super(GraphNet, self).__init__()\n",
    "        \n",
    "        # transform to latent space\n",
    "        self.inputnetwork = nn.Sequential(\n",
    "            nn.Linear(input_dim, hidden_dim),\n",
    "            nn.BatchNorm1d(hidden_dim),\n",
    "            nn.Tanh()\n",
    "        )\n",
    "        \n",
    "        # to compute messages\n",
    "        convnetwork = nn.Sequential(\n",
    "            nn.Linear(2 * hidden_dim, 2 * hidden_dim),\n",
    "            nn.ReLU(),\n",
    "            nn.Dropout(),\n",
    "            nn.Linear(2 * hidden_dim, hidden_dim),\n",
    "            nn.ReLU()\n",
    "        )\n",
    "        \n",
    "        # EdgeConv\n",
    "        self.graphconv = EdgeConv(nn=convnetwork, aggr=aggr)\n",
    "        \n",
    "        # edge features from node embeddings for classification\n",
    "        self.edgenetwork = nn.Sequential(\n",
    "            nn.Linear(2 * hidden_dim, output_dim),\n",
    "            nn.Sigmoid()\n",
    "        )\n",
    "        \n",
    "        self.niters = niters\n",
    "    \n",
    "    def forward(self, data):\n",
    "        X = data.x\n",
    "        #print(f\"edges {data.num_edges}\")\n",
    "        #print(f\"initial X size {X.size()}\")\n",
    "        H = self.inputnetwork(X)\n",
    "        #print(f\"size after inputnet {H.size()}\")\n",
    "        for i in range(self.niters):\n",
    "            H = self.graphconv(H, Utils.to_undirected(data.edge_index))\n",
    "            #print(f\"size of H after {i}th iter {H.size()}\")\n",
    "            \n",
    "        src, dst = data.edge_index\n",
    "        #print(f\"src size {H[src].size()} dest size {H[dst].size()}\")\n",
    "        #print(f\"torch cat {torch.cat([H[src], H[dst]], dim=-1).size()}\")\n",
    "        #print(f\"GraphNet returns {self.edgenetwork(torch.cat([H[src], H[dst]], dim=-1)).squeeze(-1).size()}\")\n",
    "        #print(f\"score size {(H[src] * H[dst]).sum(dim=-1)}\")\n",
    "        #return (H[src] * H[dst]).sum(dim=-1)\n",
    "        return self.edgenetwork(torch.cat([H[src], H[dst]], dim=-1)).squeeze(-1)"
   ]
  },
  {
   "cell_type": "code",
   "execution_count": 3,
   "id": "a4a154fe",
   "metadata": {},
   "outputs": [],
   "source": [
    "# Load data\n",
    "f = \"dataset_closeByDoublePion/\"\n",
    "with open(f+\"node_features\", \"rb\") as fp:\n",
    "    X = pickle.load(fp)\n",
    "    \n",
    "with open(f+\"edges\", \"rb\") as fp:\n",
    "    Edges = pickle.load(fp)\n",
    "    \n",
    "with open(f+\"edges_labels\", \"rb\") as fp:\n",
    "    Edge_labels = pickle.load(fp)"
   ]
  },
  {
   "cell_type": "code",
   "execution_count": 4,
   "id": "9a50f76d",
   "metadata": {},
   "outputs": [
    {
     "name": "stdout",
     "output_type": "stream",
     "text": [
      "event 151 edges []\n",
      "event 7097 edges []\n",
      "event 7409 edges []\n",
      "event 7966 edges []\n",
      "event 10130 edges []\n",
      "event 10375 edges []\n",
      "event 15526 edges []\n",
      "event 19978 edges []\n"
     ]
    }
   ],
   "source": [
    "# process data\n",
    "edge_data = []\n",
    "edge_label = []\n",
    "node_data = []\n",
    "for ev in range(len(X)):\n",
    "    if len(Edges[ev]) == 0:\n",
    "        print(f\"event {ev} edges {Edges[ev]}\")\n",
    "        continue # skip events with no edges\n",
    "    else:\n",
    "        X_ev = []\n",
    "        edge_data.append(Edges[ev])\n",
    "        edge_label.append([np.float32(edg) for edg in Edge_labels[ev]])\n",
    "        for field in X[ev].fields:\n",
    "            X_ev.append(ak.to_numpy(X[ev][field]))\n",
    "        node_data.append(X_ev)"
   ]
  },
  {
   "cell_type": "code",
   "execution_count": 5,
   "id": "17759db7",
   "metadata": {},
   "outputs": [],
   "source": [
    "data_list = []\n",
    "for ev in range(len(node_data)):\n",
    "    x = torch.from_numpy(np.array(node_data[ev]).T)\n",
    "    e_label = torch.from_numpy(np.array(edge_label[ev]))\n",
    "    edge_index = torch.from_numpy(edge_data[ev])\n",
    "    data = Data(x=x, num_nodes=torch.tensor(x.shape[0]), edge_index=edge_index, edge_label=e_label)\n",
    "    data_list.append(data)"
   ]
  },
  {
   "cell_type": "code",
   "execution_count": 6,
   "id": "c69f8524",
   "metadata": {},
   "outputs": [],
   "source": [
    "# split into train, val, test sets\n",
    "\n",
    "trainRatio = 0.8\n",
    "valRatio = 0.1\n",
    "testRatio = 0.1\n",
    "\n",
    "nSamples = len(data_list)\n",
    "\n",
    "nTrain = int( trainRatio * nSamples  )\n",
    "nVal = int( valRatio * nSamples )\n",
    "\n",
    "trainDataset = data_list[:nTrain]           # training dataset\n",
    "valDataset = data_list[nTrain:nTrain+nVal]  # validation dataset\n",
    "testDataset = data_list[nTrain+nVal:]       # test dataset"
   ]
  },
  {
   "cell_type": "code",
   "execution_count": 51,
   "id": "e105a8c1",
   "metadata": {},
   "outputs": [
    {
     "data": {
      "text/plain": [
       "15993"
      ]
     },
     "execution_count": 51,
     "metadata": {},
     "output_type": "execute_result"
    }
   ],
   "source": [
    "len(trainDataset)"
   ]
  },
  {
   "cell_type": "code",
   "execution_count": 53,
   "id": "6e7a7a8f",
   "metadata": {},
   "outputs": [
    {
     "name": "stdout",
     "output_type": "stream",
     "text": [
      "epoch 0 - train loss 0.577883601129055 - val loss 0.49816878731288605\n",
      "epoch 1 - train loss 0.5121449552178383 - val loss 0.48047030728960793\n",
      "epoch 2 - train loss 0.5005320851206779 - val loss 0.47669705133589485\n",
      "epoch 3 - train loss 0.4943206803202629 - val loss 0.4722839693228404\n",
      "epoch 4 - train loss 0.4894380287528038 - val loss 0.46664082672860885\n",
      "epoch 5 - train loss 0.48536352026462554 - val loss 0.4662248714575692\n",
      "epoch 6 - train loss 0.48158876967430114 - val loss 0.46085551712248063\n",
      "epoch 7 - train loss 0.4777592003941536 - val loss 0.45741381910112167\n",
      "epoch 8 - train loss 0.47477160483598707 - val loss 0.45500952289217994\n",
      "epoch 9 - train loss 0.47222928988933566 - val loss 0.45261092034597245\n"
     ]
    }
   ],
   "source": [
    "# Training\n",
    "\n",
    "epochs = 10\n",
    "batch_size = 32\n",
    "\n",
    "device = torch.device('cuda' if torch.cuda.is_available() else 'cpu')\n",
    "model = GraphNet().to(device)\n",
    "#data = data_list.to(device)\n",
    "trainLoader = DataLoader(trainDataset, batch_size=batch_size)\n",
    "valLoader = DataLoader(valDataset, batch_size=batch_size)\n",
    "optimizer = torch.optim.Adam(model.parameters(), lr=0.001, weight_decay=5e-4)\n",
    "\n",
    "train_loss_history = []\n",
    "val_loss_history = []\n",
    "model.train()\n",
    "for epoch in range(epochs):\n",
    "    batchloss = []\n",
    "    for sample in trainLoader:\n",
    "        optimizer.zero_grad()\n",
    "        sample.to(device)\n",
    "        out = model(sample)\n",
    "        weight = [1. if l > 0.9 else 1.1 for l in sample.edge_label] # weigh up false edges\n",
    "        loss = F.binary_cross_entropy(out, sample.edge_label, weight=torch.tensor(weight))\n",
    "        batchloss.append(loss.item())\n",
    "        loss.backward()\n",
    "        optimizer.step()\n",
    "        \n",
    "    train_loss_history.append(np.mean(batchloss))\n",
    "\n",
    "    with torch.set_grad_enabled( False ):\n",
    "        batchloss = []\n",
    "        for sample in valLoader:\n",
    "            out = model(sample)\n",
    "            val_loss = F.binary_cross_entropy(out, sample.edge_label)\n",
    "            batchloss.append(val_loss.item())\n",
    "            \n",
    "    val_loss_history.append(np.mean(batchloss))\n",
    "    print(f\"epoch {epoch} - train loss {train_loss_history[-1]} - val loss {val_loss_history[-1]}\")"
   ]
  },
  {
   "cell_type": "code",
   "execution_count": 31,
   "id": "53344cfc",
   "metadata": {},
   "outputs": [
    {
     "data": {
      "text/plain": [
       "5"
      ]
     },
     "execution_count": 31,
     "metadata": {},
     "output_type": "execute_result"
    }
   ],
   "source": [
    "len(train_loss_history)"
   ]
  },
  {
   "cell_type": "code",
   "execution_count": 54,
   "id": "1332ee81",
   "metadata": {},
   "outputs": [
    {
     "data": {
      "text/plain": [
       "<matplotlib.legend.Legend at 0x7fc4b0b10550>"
      ]
     },
     "execution_count": 54,
     "metadata": {},
     "output_type": "execute_result"
    },
    {
     "data": {
      "image/png": "[encoded data removed]",
      "text/plain": [
       "<Figure size 432x288 with 1 Axes>"
      ]
     },
     "metadata": {
      "needs_background": "light"
     },
     "output_type": "display_data"
    }
   ],
   "source": [
    "plt.plot(train_loss_history, label='train')\n",
    "plt.plot(val_loss_history, label='val')\n",
    "plt.ylabel(\"Loss\")\n",
    "plt.xlabel(\"Epochs\")\n",
    "plt.xticks(range(epochs), range(1, epochs+1))\n",
    "plt.legend()"
   ]
  },
  {
   "cell_type": "code",
   "execution_count": 55,
   "id": "19843531",
   "metadata": {},
   "outputs": [],
   "source": [
    "# Save model so as not to repeat the training\n",
    "PATH = \"model/trackster_graphconv\"\n",
    "torch.save(model.state_dict(), PATH)"
   ]
  },
  {
   "cell_type": "code",
   "execution_count": 56,
   "id": "fd0d85b3",
   "metadata": {},
   "outputs": [
    {
     "data": {
      "text/plain": [
       "GraphNet(\n",
       "  (inputnetwork): Sequential(\n",
       "    (0): Linear(in_features=8, out_features=64, bias=True)\n",
       "    (1): BatchNorm1d(64, eps=1e-05, momentum=0.1, affine=True, track_running_stats=True)\n",
       "    (2): Tanh()\n",
       "  )\n",
       "  (graphconv): EdgeConv(nn=Sequential(\n",
       "    (0): Linear(in_features=128, out_features=128, bias=True)\n",
       "    (1): ReLU()\n",
       "    (2): Dropout(p=0.5, inplace=False)\n",
       "    (3): Linear(in_features=128, out_features=64, bias=True)\n",
       "    (4): ReLU()\n",
       "  ))\n",
       "  (edgenetwork): Sequential(\n",
       "    (0): Linear(in_features=128, out_features=1, bias=True)\n",
       "    (1): Sigmoid()\n",
       "  )\n",
       ")"
      ]
     },
     "execution_count": 56,
     "metadata": {},
     "output_type": "execute_result"
    }
   ],
   "source": [
    "# Load model\n",
    "device = torch.device('cuda' if torch.cuda.is_available() else 'cpu')\n",
    "model_test = GraphNet()\n",
    "model_test.load_state_dict(torch.load(PATH))\n",
    "model_test.eval()\n",
    "model_test.to(device)"
   ]
  },
  {
   "cell_type": "code",
   "execution_count": 57,
   "id": "95170e98",
   "metadata": {},
   "outputs": [
    {
     "name": "stdout",
     "output_type": "stream",
     "text": [
      "loaded\n",
      "Accuracy in test data 71.95113218828409 %\n",
      "Confusion matrix [[ 85516  33387]\n",
      " [123953 312062]]\n"
     ]
    }
   ],
   "source": [
    "classification_threshold = 0.7\n",
    "def getAccuracy(y_true, y_prob):\n",
    "    assert y_true.ndim == 1 and y_true.size() == y_prob.size()\n",
    "    y_prob = y_prob > classification_threshold\n",
    "    return (y_true == y_prob).sum().item() / y_true.size(0)\n",
    "\n",
    "testLoader = DataLoader(testDataset, batch_size=32)\n",
    "print(\"loaded\")\n",
    "\n",
    "predictions = []\n",
    "truth = []\n",
    "accuracies = []\n",
    "\n",
    "for sample in testLoader:\n",
    "    sample.to(device)\n",
    "    out = model_test(sample)\n",
    "    #print(f\"out {out}\")\n",
    "    acc = getAccuracy(sample.edge_label, out)\n",
    "    accuracies.append(acc)\n",
    "    #print(f\"out {acc}\")\n",
    "    y_test = out > classification_threshold\n",
    "    predictions.append(y_test.numpy())\n",
    "    truth.append(sample.edge_label.numpy())\n",
    "    \n",
    "cf_matrix = confusion_matrix(np.concatenate(truth), np.concatenate(predictions))\n",
    "#cf_matrix = confusion_matrix(sample.edge_label.detach().numpy(), y_test.detach().numpy())\n",
    "print(f\"Accuracy in test data {np.mean(accuracies)*100} %\")\n",
    "print(f\"Confusion matrix {cf_matrix}\")"
   ]
  },
  {
   "cell_type": "code",
   "execution_count": 28,
   "id": "31da276e",
   "metadata": {},
   "outputs": [
    {
     "name": "stdout",
     "output_type": "stream",
     "text": [
      "TN: 82189, FP: 36714, FN: 128407, TP: 307608\n"
     ]
    },
    {
     "data": {
      "text/plain": [
       "<matplotlib.colorbar.Colorbar at 0x7fc4b1500fd0>"
      ]
     },
     "execution_count": 28,
     "metadata": {},
     "output_type": "execute_result"
    },
    {
     "data": {
      "image/png": "[encoded data removed]",
      "text/plain": [
       "<Figure size 540x540 with 2 Axes>"
      ]
     },
     "metadata": {
      "needs_background": "light"
     },
     "output_type": "display_data"
    }
   ],
   "source": [
    "tn, fp, fn, tp = cf_matrix.ravel()\n",
    "print(f\"TN: {tn}, FP: {fp}, FN: {fn}, TP: {tp}\")\n",
    "fig, px = plt.subplots(figsize=(7.5, 7.5))\n",
    "px.set_xlabel(\"predicted\")\n",
    "px.set_ylabel(\"true\")\n",
    "cax = px.matshow(cf_matrix)\n",
    "fig.colorbar(cax)"
   ]
  },
  {
   "cell_type": "code",
   "execution_count": null,
   "id": "ebd8ee7f",
   "metadata": {},
   "outputs": [],
   "source": []
  }
 ],
 "metadata": {
  "kernelspec": {
   "display_name": "Python 3 (ipykernel)",
   "language": "python",
   "name": "python3"
  },
  "language_info": {
   "codemirror_mode": {
    "name": "ipython",
    "version": 3
   },
   "file_extension": ".py",
   "mimetype": "text/x-python",
   "name": "python",
   "nbconvert_exporter": "python",
   "pygments_lexer": "ipython3",
   "version": "3.9.7"
  }
 },
 "nbformat": 4,
 "nbformat_minor": 5
}
