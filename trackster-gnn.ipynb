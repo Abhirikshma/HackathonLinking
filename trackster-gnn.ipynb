{
 "cells": [
  {
   "cell_type": "code",
   "execution_count": 1,
   "id": "35611454",
   "metadata": {},
   "outputs": [],
   "source": [
    "import awkward as ak\n",
    "import numpy as np\n",
    "import matplotlib.pyplot as plt\n",
    "import pickle\n",
    "import torch\n",
    "from torch import nn\n",
    "import torch.nn.functional as F\n",
    "import torch_geometric.transforms as T\n",
    "from torch_geometric.nn import EdgeConv\n",
    "from torch_geometric.data import Data, Dataset\n",
    "from torch_geometric.loader import DataLoader\n",
    "#from torch_geometric.graphgym import params_count\n",
    "import torch_geometric.utils as Utils\n",
    "from sklearn.metrics import confusion_matrix\n",
    "from sklearn.preprocessing import StandardScaler\n",
    "import mplhep as hep\n",
    "plt.style.use(hep.style.CMS)"
   ]
  },
  {
   "cell_type": "code",
   "execution_count": 2,
   "id": "6f8d661a",
   "metadata": {},
   "outputs": [],
   "source": [
    "class GraphNet(nn.Module):\n",
    "    def __init__(self, input_dim = 12, hidden_dim = 64, output_dim = 1, aggr = 'add', niters = 4):\n",
    "        super(GraphNet, self).__init__()\n",
    "        \n",
    "        # transform to latent space\n",
    "        self.inputnetwork = nn.Sequential(\n",
    "            nn.Linear(input_dim, hidden_dim),\n",
    "            nn.BatchNorm1d(hidden_dim),\n",
    "            nn.ELU(),\n",
    "#             nn.Dropout(0.2),\n",
    "            nn.Linear(hidden_dim, hidden_dim),\n",
    "            nn.ReLU(),\n",
    "#             nn.Dropout(0.2),\n",
    "#             nn.Linear(2*hidden_dim, hidden_dim),\n",
    "#             nn.ReLU()\n",
    "        )\n",
    "        \n",
    "        # to compute messages\n",
    "        convnetwork = nn.Sequential(\n",
    "            nn.Linear(2 * hidden_dim, 2 * hidden_dim),\n",
    "            nn.ReLU(),\n",
    "            nn.Dropout(0.2),\n",
    "            nn.Linear(2 * hidden_dim, hidden_dim),\n",
    "            nn.ReLU()\n",
    "        )\n",
    "        \n",
    "        # EdgeConv\n",
    "        self.graphconv = EdgeConv(nn=convnetwork, aggr=aggr)\n",
    "        \n",
    "        # edge features from node embeddings for classification\n",
    "        self.edgenetwork = nn.Sequential(\n",
    "            nn.Linear(2 * hidden_dim, hidden_dim),\n",
    "            nn.ReLU(),\n",
    "            nn.Dropout(0.2),\n",
    "            nn.Linear(hidden_dim, hidden_dim),\n",
    "            nn.ReLU(),\n",
    "            nn.Dropout(0.2),\n",
    "            nn.Linear(hidden_dim, output_dim),\n",
    "            nn.Sigmoid()\n",
    "        )\n",
    "        \n",
    "        self.niters = niters\n",
    "    \n",
    "    def forward(self, data):\n",
    "        X = data.x\n",
    "        #print(f\"edges {data.num_edges}\")\n",
    "        #print(f\"initial X size {X.size()}\")\n",
    "        H = self.inputnetwork(X)\n",
    "        #print(f\"size after inputnet {H.size()}\")\n",
    "        for i in range(self.niters):\n",
    "            (prepared_edges, _) = Utils.add_self_loops(data.edge_index)\n",
    "            H = self.graphconv(H, Utils.to_undirected(prepared_edges))\n",
    "            #print(f\"size of H after {i}th iter {H.size()}\")\n",
    "            \n",
    "        src, dst = data.edge_index\n",
    "        #print(f\"src size {H[src].size()} dest size {H[dst].size()}\")\n",
    "        #print(f\"torch cat {torch.cat([H[src], H[dst]], dim=-1).size()}\")\n",
    "        #print(f\"GraphNet returns {self.edgenetwork(torch.cat([H[src], H[dst]], dim=-1)).squeeze(-1).size()}\")\n",
    "        #print(f\"score size {(H[src] * H[dst]).sum(dim=-1)}\")\n",
    "        #return (H[src] * H[dst]).sum(dim=-1)\n",
    "        return self.edgenetwork(torch.cat([H[src], H[dst]], dim=-1)).squeeze(-1)"
   ]
  },
  {
   "cell_type": "code",
   "execution_count": 4,
   "id": "4ee2ffea",
   "metadata": {},
   "outputs": [
    {
     "name": "stdout",
     "output_type": "stream",
     "text": [
      "===== Loading Files ...\n",
      "===== Loaded! \n"
     ]
    }
   ],
   "source": [
    "print(\"===== Loading Files ...\")\n",
    "trainData = \"./dataProcessed_improved/dataTraining.pt\"\n",
    "valData = \"./dataProcessed_improved/dataVal.pt\"\n",
    "testData = \"./dataProcessed_improved/dataTest.pt\"\n",
    "trainDataset = torch.load(trainData)\n",
    "valDataset = torch.load(valData)\n",
    "testDataset = torch.load(testData)\n",
    "print(\"===== Loaded! \")"
   ]
  },
  {
   "cell_type": "code",
   "execution_count": null,
   "id": "1130dea0",
   "metadata": {},
   "outputs": [],
   "source": [
    "# Imbalance in training\n",
    "train_edges_total = 0\n",
    "train_edges_true = 0\n",
    "train_edges_false = 0\n",
    "\n",
    "for tr_data in trainDataset:\n",
    "    train_edges_total += len(tr_data.edge_index[0])\n",
    "    for label in tr_data.edge_label:\n",
    "        if label.numpy() == 0:\n",
    "            train_edges_false += 1\n",
    "        elif label.numpy() == 1:\n",
    "            train_edges_true += 1\n",
    "        \n",
    "print(f\"Total edges in training : {train_edges_total}\")\n",
    "print(f\"True edges : {train_edges_true}\")\n",
    "print(f\"False edges : {train_edges_false}\")\n",
    "\n",
    "# edges in test dataset\n",
    "test_edges_total = 0\n",
    "test_edges_true = 0\n",
    "test_edges_false = 0\n",
    "for test_data in testDataset:\n",
    "    test_edges_total += len(test_data.edge_index[0])\n",
    "    for label in test_data.edge_label:\n",
    "        if label.numpy() == 0:\n",
    "            test_edges_false += 1\n",
    "        elif label.numpy() == 1:\n",
    "            test_edges_true += 1\n",
    "            \n",
    "print(f\"\\nTotal edges in test : {test_edges_total}\")\n",
    "print(f\"True edges : {test_edges_true} - {test_edges_true/test_edges_total*100}%\")\n",
    "print(f\"False edges : {test_edges_false} - {test_edges_false/test_edges_total*100}%\")"
   ]
  },
  {
   "cell_type": "code",
   "execution_count": null,
   "id": "eaedd574",
   "metadata": {},
   "outputs": [],
   "source": [
    "# Calculate weights\n",
    "w_false = train_edges_total/(2*train_edges_false)\n",
    "w_true = train_edges_total/(2*train_edges_true)\n",
    "print(f\"Weights True, False edges : {w_true}, {w_false}\")"
   ]
  },
  {
   "cell_type": "code",
   "execution_count": 5,
   "id": "7acb2dd9",
   "metadata": {},
   "outputs": [
    {
     "data": {
      "text/plain": [
       "100000"
      ]
     },
     "execution_count": 5,
     "metadata": {},
     "output_type": "execute_result"
    }
   ],
   "source": [
    "len(trainDataset)"
   ]
  },
  {
   "cell_type": "code",
   "execution_count": 6,
   "id": "ecd87322",
   "metadata": {},
   "outputs": [],
   "source": [
    "def focal_loss(bce_loss, targets, gamma, alpha):\n",
    "    \"\"\"Binary focal loss, mean.\n",
    "\n",
    "    Per https://discuss.pytorch.org/t/is-this-a-correct-implementation-for-focal-loss-in-pytorch/43327/5 with\n",
    "    improvements for alpha.\n",
    "    :param bce_loss: Binary Cross Entropy loss, a torch tensor.\n",
    "    :param targets: a torch tensor containing the ground truth, 0s and 1s.\n",
    "    :param gamma: focal loss power parameter, a float scalar.\n",
    "    :param alpha: weight of the class indicated by 1, a float scalar.\n",
    "    \"\"\"\n",
    "    p_t = torch.exp(-bce_loss)\n",
    "    alpha_tensor = (1 - alpha) + targets * (2 * alpha - 1)  # alpha if target = 1 and 1 - alpha if target = 0\n",
    "    f_loss = alpha_tensor * (1 - p_t) ** gamma * bce_loss\n",
    "    return f_loss.mean()"
   ]
  },
  {
   "cell_type": "code",
   "execution_count": 7,
   "id": "6e7a7a8f",
   "metadata": {},
   "outputs": [
    {
     "name": "stdout",
     "output_type": "stream",
     "text": [
      "lr: 0.001\n",
      "epoch 0 - train loss 0.0268 - val loss 0.0203\n",
      "lr: 0.001\n",
      "epoch 1 - train loss 0.0200 - val loss 0.0185\n",
      "lr: 0.001\n",
      "epoch 2 - train loss 0.0187 - val loss 0.0176\n",
      "lr: 0.001\n",
      "epoch 3 - train loss 0.0182 - val loss 0.0174\n",
      "lr: 0.001\n",
      "epoch 4 - train loss 0.0180 - val loss 0.0178\n",
      "lr: 0.001\n",
      "epoch 5 - train loss 0.0177 - val loss 0.0167\n",
      "lr: 0.001\n",
      "epoch 6 - train loss 0.0174 - val loss 0.0170\n",
      "lr: 0.001\n",
      "epoch 7 - train loss 0.0171 - val loss 0.0159\n",
      "lr: 0.001\n",
      "epoch 8 - train loss 0.0170 - val loss 0.0160\n",
      "lr: 0.001\n",
      "epoch 9 - train loss 0.0171 - val loss 0.0157\n",
      "lr: 0.001\n",
      "epoch 10 - train loss 0.0170 - val loss 0.0160\n",
      "lr: 0.001\n",
      "epoch 11 - train loss 0.0171 - val loss 0.0162\n",
      "lr: 0.001\n",
      "epoch 12 - train loss 0.0169 - val loss 0.0156\n",
      "lr: 0.001\n",
      "epoch 13 - train loss 0.0169 - val loss 0.0157\n",
      "lr: 0.001\n",
      "epoch 14 - train loss 0.0168 - val loss 0.0160\n",
      "lr: 0.001\n",
      "epoch 15 - train loss 0.0169 - val loss 0.0157\n",
      "lr: 0.001\n",
      "epoch 16 - train loss 0.0168 - val loss 0.0161\n",
      "lr: 0.001\n",
      "epoch 17 - train loss 0.0168 - val loss 0.0157\n",
      "lr: 0.001\n",
      "epoch 18 - train loss 0.0167 - val loss 0.0158\n",
      "lr: 0.0001\n",
      "epoch 19 - train loss 0.0155 - val loss 0.0150\n",
      "lr: 0.0001\n",
      "epoch 20 - train loss 0.0154 - val loss 0.0150\n",
      "lr: 0.0001\n",
      "epoch 21 - train loss 0.0154 - val loss 0.0150\n",
      "lr: 0.0001\n",
      "epoch 22 - train loss 0.0153 - val loss 0.0148\n",
      "lr: 0.0001\n",
      "epoch 23 - train loss 0.0153 - val loss 0.0150\n",
      "lr: 0.0001\n",
      "epoch 24 - train loss 0.0152 - val loss 0.0149\n",
      "lr: 0.0001\n",
      "epoch 25 - train loss 0.0152 - val loss 0.0147\n",
      "lr: 0.0001\n",
      "epoch 26 - train loss 0.0152 - val loss 0.0147\n",
      "lr: 0.0001\n",
      "epoch 27 - train loss 0.0152 - val loss 0.0147\n",
      "lr: 0.0001\n",
      "epoch 28 - train loss 0.0152 - val loss 0.0148\n",
      "lr: 0.0001\n",
      "epoch 29 - train loss 0.0151 - val loss 0.0146\n",
      "lr: 0.0001\n",
      "epoch 30 - train loss 0.0151 - val loss 0.0146\n",
      "lr: 0.0001\n",
      "epoch 31 - train loss 0.0151 - val loss 0.0147\n",
      "lr: 0.0001\n",
      "epoch 32 - train loss 0.0151 - val loss 0.0145\n",
      "lr: 0.0001\n",
      "epoch 33 - train loss 0.0151 - val loss 0.0146\n",
      "lr: 0.0001\n",
      "epoch 34 - train loss 0.0150 - val loss 0.0145\n",
      "lr: 0.0001\n",
      "epoch 35 - train loss 0.0150 - val loss 0.0145\n",
      "lr: 0.0001\n",
      "epoch 36 - train loss 0.0150 - val loss 0.0145\n",
      "lr: 0.0001\n",
      "epoch 37 - train loss 0.0150 - val loss 0.0145\n",
      "lr: 0.0001\n",
      "epoch 38 - train loss 0.0150 - val loss 0.0145\n",
      "lr: 1e-05\n",
      "epoch 39 - train loss 0.0148 - val loss 0.0143\n",
      "lr: 1e-05\n",
      "epoch 40 - train loss 0.0147 - val loss 0.0143\n",
      "lr: 1e-05\n",
      "epoch 41 - train loss 0.0147 - val loss 0.0143\n",
      "lr: 1e-05\n",
      "epoch 42 - train loss 0.0147 - val loss 0.0143\n",
      "lr: 1e-05\n",
      "epoch 43 - train loss 0.0147 - val loss 0.0143\n",
      "lr: 1e-05\n",
      "epoch 44 - train loss 0.0147 - val loss 0.0142\n",
      "lr: 1e-05\n",
      "epoch 45 - train loss 0.0147 - val loss 0.0143\n",
      "lr: 1.0000000000000002e-06\n",
      "epoch 46 - train loss 0.0147 - val loss 0.0143\n",
      "lr: 1.0000000000000002e-06\n",
      "epoch 47 - train loss 0.0147 - val loss 0.0142\n",
      "lr: 1.0000000000000002e-06\n",
      "epoch 48 - train loss 0.0147 - val loss 0.0143\n",
      "lr: 1.0000000000000002e-06\n",
      "epoch 49 - train loss 0.0147 - val loss 0.0142\n"
     ]
    }
   ],
   "source": [
    "# Training\n",
    "\n",
    "epochs = 50\n",
    "batch_size = 32\n",
    "\n",
    "device = torch.device('cuda' if torch.cuda.is_available() else 'cpu')\n",
    "model = GraphNet().to(device)\n",
    "#data = data_list.to(device)\n",
    "trainLoader = DataLoader(trainDataset, batch_size=batch_size)\n",
    "valLoader = DataLoader(valDataset, batch_size=batch_size)\n",
    "optimizer = torch.optim.Adam(model.parameters(), lr=1e-3, weight_decay=5e-4)\n",
    "scheduler = torch.optim.lr_scheduler.ReduceLROnPlateau(optimizer, mode='min', factor=0.1, patience=5, threshold=1e-4, threshold_mode='abs')\n",
    "\n",
    "train_loss_history = []\n",
    "val_loss_history = []\n",
    "model.train()\n",
    "for epoch in range(epochs):\n",
    "    batchloss = []\n",
    "    for sample in trainLoader:\n",
    "        optimizer.zero_grad()\n",
    "        sample.to(device)\n",
    "        out = model(sample)\n",
    "#         weight = [w_true if l > 0.9 else w_false for l in sample.edge_label] # weigh edges\n",
    "#         loss = F.binary_cross_entropy(out, sample.edge_label, weight=torch.tensor(weight))\n",
    "        bce_loss = F.binary_cross_entropy(out, sample.edge_label)\n",
    "        loss = focal_loss(bce_loss, sample.edge_label, 2, 0.25)\n",
    "#         print(f\"out {out}\")\n",
    "#         print(f\"label {sample.edge_label}\")\n",
    "#         print(f\"loss {loss}\")\n",
    "        batchloss.append(loss.item())\n",
    "        loss.backward()\n",
    "        optimizer.step()\n",
    "        \n",
    "    for param_group in optimizer.param_groups:\n",
    "        print(f\"lr: {param_group['lr']}\")\n",
    "    train_loss_history.append(np.mean(batchloss))\n",
    "\n",
    "    with torch.set_grad_enabled( False ):\n",
    "        batchloss = []\n",
    "        for sample in valLoader:\n",
    "            sample.to(device)\n",
    "            out = model(sample)\n",
    "            #val_loss = F.binary_cross_entropy_with_logits(out, sample.edge_label)\n",
    "            val_bce = F.binary_cross_entropy(out, sample.edge_label)\n",
    "            val_loss = focal_loss(val_bce, sample.edge_label, 2, 0.25)\n",
    "            batchloss.append(val_loss.item())\n",
    "            \n",
    "    val_loss_history.append(np.mean(batchloss))\n",
    "    scheduler.step(val_loss_history[-1])\n",
    "    print(f\"epoch {epoch} - train loss {train_loss_history[-1]:.4f} - val loss {val_loss_history[-1]:.4f}\")"
   ]
  },
  {
   "cell_type": "code",
   "execution_count": null,
   "id": "53344cfc",
   "metadata": {},
   "outputs": [],
   "source": [
    "#from torch_geometric.graphgym import params_count\n",
    "#print(f\"{params_count(model)} parameters in model\")"
   ]
  },
  {
   "cell_type": "code",
   "execution_count": 8,
   "id": "1332ee81",
   "metadata": {},
   "outputs": [
    {
     "data": {
      "text/plain": [
       "<matplotlib.legend.Legend at 0x7f0ea2d7fcd0>"
      ]
     },
     "execution_count": 8,
     "metadata": {},
     "output_type": "execute_result"
    },
    {
     "data": {
      "image/png": "[encoded data removed]",
      "text/plain": [
       "<Figure size 720x720 with 1 Axes>"
      ]
     },
     "metadata": {
      "needs_background": "light"
     },
     "output_type": "display_data"
    }
   ],
   "source": [
    "xaxis = range(1, epochs+1)\n",
    "plt.plot(xaxis, train_loss_history, label='train')\n",
    "plt.plot(xaxis, val_loss_history, label='val')\n",
    "plt.ylabel(\"Loss\")\n",
    "plt.xlabel(\"Epochs\")\n",
    "#plt.xticks(range(epochs), range(1, epochs+1))\n",
    "plt.legend()"
   ]
  },
  {
   "cell_type": "code",
   "execution_count": 9,
   "id": "19843531",
   "metadata": {},
   "outputs": [],
   "source": [
    "# Save model so as not to repeat the training\n",
    "PATH = \"model/trackster_graphconv_improved_truth.pt\"\n",
    "torch.save(model.state_dict(), PATH)"
   ]
  },
  {
   "cell_type": "code",
   "execution_count": null,
   "id": "fd0d85b3",
   "metadata": {},
   "outputs": [],
   "source": [
    "# Load model\n",
    "device = torch.device('cuda' if torch.cuda.is_available() else 'cpu')\n",
    "model_test = GraphNet()\n",
    "model_test.load_state_dict(torch.load(\"/eos/user/w/wredjeb/SWAN_projects/GraphSC/HackathonLinking/FirstModel/model.pt\")[\"model_state_dict\"])\n",
    "model_test.eval()\n",
    "model_test.to(device)"
   ]
  },
  {
   "cell_type": "code",
   "execution_count": 10,
   "id": "9bb5f18e",
   "metadata": {},
   "outputs": [
    {
     "data": {
      "text/plain": [
       "42369"
      ]
     },
     "execution_count": 10,
     "metadata": {},
     "output_type": "execute_result"
    }
   ],
   "source": [
    "sum(p.numel() for p in model.parameters())"
   ]
  },
  {
   "cell_type": "code",
   "execution_count": 11,
   "id": "9cab8bb8",
   "metadata": {},
   "outputs": [],
   "source": [
    "def normalize_and_get_data(data_list, ev):\n",
    "    data_list_ev = data_list[ev]\n",
    "    x_np = data_list_ev[0]\n",
    "    x_coord_slice = x_np[:, [0,1,2]]\n",
    "    x_rest_slice = x_np[:, [9,10,11]]\n",
    "    \n",
    "    mean = []\n",
    "    std = []\n",
    "    scaler=StandardScaler()\n",
    "    scaler.fit(x_coord_slice)\n",
    "    x_coord_norm = scaler.transform(x_coord_slice)\n",
    "    mean.append(scaler.mean_)\n",
    "    std.append(scaler.scale_)\n",
    "    \n",
    "    mean.append(np.zeros(6)) # for the unnormalized features\n",
    "    std.append(np.ones(6))\n",
    "    \n",
    "    scaler.fit(x_rest_slice)\n",
    "    x_rest_norm = scaler.transform(x_rest_slice)\n",
    "    mean.append(scaler.mean_)\n",
    "    std.append(scaler.scale_)\n",
    "    \n",
    "    mean = np.concatenate(mean, axis=-1)\n",
    "    std = np.concatenate(std, axis=-1)\n",
    "    \n",
    "    x_ev = torch.from_numpy(np.concatenate((x_coord_norm, x_np[:,[3,4,5,6,7,8]], x_rest_norm), axis=1))\n",
    "    edge_label = torch.from_numpy(data_list_ev[1])\n",
    "    edge_index = torch.from_numpy(data_list_ev[2])\n",
    "    data = Data(x=x_ev, num_nodes=torch.tensor(x_ev.shape[0]), edge_index=edge_index, edge_label=edge_label)\n",
    "    return data, mean, std\n",
    "\n",
    "testData = []\n",
    "for ev in range(len(testDataset)):\n",
    "    data, mean, std = normalize_and_get_data(testDataset, ev)\n",
    "    testData.append(data)"
   ]
  },
  {
   "cell_type": "code",
   "execution_count": 15,
   "id": "95170e98",
   "metadata": {},
   "outputs": [
    {
     "name": "stdout",
     "output_type": "stream",
     "text": [
      "loaded\n",
      "Accuracy in test data 81.3122 %\n",
      "Confusion matrix [[ 436886  357267]\n",
      " [ 319428 2475940]]\n"
     ]
    }
   ],
   "source": [
    "#testDataset = torch.load(\"/eos/user/w/wredjeb/SWAN_projects/GraphSC/HackathonLinking/dataProcessed/dataTest.pt\")\n",
    "classification_threshold = 0.6\n",
    "def getAccuracy(y_true, y_prob):\n",
    "    assert y_true.ndim == 1 and y_true.size() == y_prob.size()\n",
    "    y_prob = y_prob > classification_threshold\n",
    "    return (y_true == y_prob).sum().item() / y_true.size(0)\n",
    "\n",
    "testLoader = DataLoader(testData, batch_size=batch_size)\n",
    "print(\"loaded\")\n",
    "\n",
    "predictions = []\n",
    "truth = []\n",
    "accuracies = []\n",
    "\n",
    "for sample in testLoader:\n",
    "    sample.to(device)\n",
    "    out = model(sample)\n",
    "    acc = getAccuracy(sample.edge_label, out)\n",
    "    accuracies.append(acc)\n",
    "    y_test = out > classification_threshold\n",
    "    predictions.append(y_test.cpu().numpy())\n",
    "    truth.append(sample.edge_label.cpu().numpy())\n",
    "    \n",
    "cf_matrix = confusion_matrix(np.concatenate(truth), np.concatenate(predictions))\n",
    "#cf_matrix = confusion_matrix(sample.edge_label.detach().numpy(), y_test.detach().numpy())\n",
    "print(f\"Accuracy in test data {np.mean(accuracies)*100:.4f} %\")\n",
    "print(f\"Confusion matrix {cf_matrix}\")"
   ]
  },
  {
   "cell_type": "code",
   "execution_count": 16,
   "id": "f295f5d6",
   "metadata": {},
   "outputs": [
    {
     "name": "stdout",
     "output_type": "stream",
     "text": [
      "[[0.1217115  0.09953055]\n",
      " [0.08898903 0.68976891]]\n",
      "\n",
      "Accuracy : 81.1480%\n",
      "Precision : 87.3900\n",
      "Recall : 88.5730% -> positive edges correctly classified\n",
      "Correctly classifying 55.0128% of all negative edges\n"
     ]
    }
   ],
   "source": [
    "tn, fp, fn, tp = cf_matrix.ravel()\n",
    "tot = tn+fp+fn+tp\n",
    "# normalized to total edges in test dataset\n",
    "print(f\"{cf_matrix/tot}\\n\")\n",
    "print(f\"Accuracy : {(tp+tn)/tot*100:.4f}%\")\n",
    "print(f\"Precision : {tp/(tp+fp)*100:.4f}\")\n",
    "print(f\"Recall : {tp/(tp+fn)*100:.4f}% -> positive edges correctly classified\")\n",
    "print(f\"Correctly classifying {tn/(tn+fp)*100:.4f}% of all negative edges\")"
   ]
  },
  {
   "cell_type": "code",
   "execution_count": 17,
   "id": "31da276e",
   "metadata": {},
   "outputs": [
    {
     "name": "stdout",
     "output_type": "stream",
     "text": [
      "TN: 0.1217115041254808, FP: 0.09953055017647201, FN: 0.0889890322413492, TP: 0.689768913456698\n"
     ]
    },
    {
     "data": {
      "text/plain": [
       "<matplotlib.colorbar.Colorbar at 0x7f0ea8511340>"
      ]
     },
     "execution_count": 17,
     "metadata": {},
     "output_type": "execute_result"
    },
    {
     "data": {
      "image/png": "[encoded data removed]",
      "text/plain": [
       "<Figure size 540x540 with 2 Axes>"
      ]
     },
     "metadata": {
      "needs_background": "light"
     },
     "output_type": "display_data"
    }
   ],
   "source": [
    "print(f\"TN: {tn/tot}, FP: {fp/tot}, FN: {fn/tot}, TP: {tp/tot}\")\n",
    "fig, px = plt.subplots(figsize=(7.5, 7.5))\n",
    "px.set_xlabel(\"predicted\")\n",
    "px.set_ylabel(\"true\")\n",
    "cax = px.matshow(cf_matrix/(tn+fp+fn+tp))\n",
    "fig.colorbar(cax)"
   ]
  },
  {
   "cell_type": "code",
   "execution_count": null,
   "id": "ebd8ee7f",
   "metadata": {},
   "outputs": [],
   "source": []
  }
 ],
 "metadata": {
  "kernelspec": {
   "display_name": "Python 3",
   "language": "python",
   "name": "python3"
  },
  "language_info": {
   "codemirror_mode": {
    "name": "ipython",
    "version": 3
   },
   "file_extension": ".py",
   "mimetype": "text/x-python",
   "name": "python",
   "nbconvert_exporter": "python",
   "pygments_lexer": "ipython3",
   "version": "3.9.12"
  }
 },
 "nbformat": 4,
 "nbformat_minor": 5
}
