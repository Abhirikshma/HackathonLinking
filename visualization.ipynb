{
 "cells": [
  {
   "cell_type": "code",
   "execution_count": 1,
   "id": "1c785517",
   "metadata": {},
   "outputs": [],
   "source": [
    "import awkward as ak\n",
    "import numpy as np\n",
    "import uproot as uproot\n",
    "import matplotlib\n",
    "import matplotlib.colors\n",
    "import matplotlib.pyplot as plt\n",
    "import networkx as nx"
   ]
  },
  {
   "cell_type": "code",
   "execution_count": 2,
   "id": "c2025cb0",
   "metadata": {},
   "outputs": [],
   "source": [
    "# ntuple file here\n",
    "file = uproot.open('/eos/cms/store/group/dpg_hgcal/comm_hgcal/hackathon/samples/close_by_double_pion/production/ntuples_10454408_0.root')"
   ]
  },
  {
   "cell_type": "code",
   "execution_count": 3,
   "id": "df20f3d5",
   "metadata": {},
   "outputs": [
    {
     "data": {
      "text/plain": [
       "{'ntuplizer': 'TDirectory',\n",
       " 'ntuplizer/simtrackstersSC': 'TTree',\n",
       " 'ntuplizer/simtrackstersCP': 'TTree',\n",
       " 'ntuplizer/tracksters': 'TTree',\n",
       " 'ntuplizer/clusters': 'TTree',\n",
       " 'ntuplizer/graph': 'TTree',\n",
       " 'ntuplizer/candidates': 'TTree',\n",
       " 'ntuplizer/trackstersMerged': 'TTree',\n",
       " 'ntuplizer/associations': 'TTree',\n",
       " 'ntuplizer/tracks': 'TTree'}"
      ]
     },
     "execution_count": 3,
     "metadata": {},
     "output_type": "execute_result"
    }
   ],
   "source": [
    "file.keys()\n",
    "file.classnames()"
   ]
  },
  {
   "cell_type": "code",
   "execution_count": 4,
   "id": "33b497b2",
   "metadata": {},
   "outputs": [
    {
     "name": "stdout",
     "output_type": "stream",
     "text": [
      "name                 | typename                 | interpretation                \n",
      "---------------------+--------------------------+-------------------------------\n",
      "NCandidates          | unknown                  | <UnknownInterpretation 'non...\n",
      "candidate_charge     | std::vector<int32_t>     | AsJagged(AsDtype('>i4'), he...\n",
      "candidate_pdgId      | std::vector<int32_t>     | AsJagged(AsDtype('>i4'), he...\n",
      "candidate_id_prob... | std::vector<std::vect... | AsObjects(AsVector(True, As...\n",
      "candidate_time       | std::vector<float>       | AsJagged(AsDtype('>f4'), he...\n",
      "candidate_timeErr    | std::vector<float>       | AsJagged(AsDtype('>f4'), he...\n",
      "candidate_energy     | std::vector<float>       | AsJagged(AsDtype('>f4'), he...\n",
      "candidate_px         | std::vector<double>      | AsJagged(AsDtype('>f8'), he...\n",
      "candidate_py         | std::vector<double>      | AsJagged(AsDtype('>f8'), he...\n",
      "candidate_pz         | std::vector<double>      | AsJagged(AsDtype('>f8'), he...\n",
      "track_in_candidate   | std::vector<uint16_t>    | AsJagged(AsDtype('>u2'), he...\n",
      "tracksters_in_can... | std::vector<std::vect... | AsObjects(AsVector(True, As...\n"
     ]
    }
   ],
   "source": [
    "trackstersclue3d = file[\"ntuplizer/tracksters\"]\n",
    "simtrackstersCP = file[\"ntuplizer/simtrackstersCP\"]\n",
    "graph = file[\"ntuplizer/graph\"]\n",
    "associations = file[\"ntuplizer/associations\"]\n",
    "candidates = file[\"ntuplizer/candidates\"]\n",
    "candidates.show()"
   ]
  },
  {
   "cell_type": "code",
   "execution_count": null,
   "id": "8589254e",
   "metadata": {},
   "outputs": [],
   "source": [
    "# Get ntuples from tree in file\n",
    "tracksterN = trackstersclue3d[\"NTracksters\"].array(library='np')\n",
    "x = trackstersclue3d[\"barycenter_x\"].array(library='np')\n",
    "y = trackstersclue3d[\"barycenter_y\"].array(library='np')\n",
    "z = trackstersclue3d[\"barycenter_z\"].array(library='np')\n",
    "linkedInners = graph[\"linked_inners\"].array(library='np')\n",
    "linkedOuters = graph[\"linked_outers\"].array(library='np')\n",
    "trackstersInCandidate = candidates[\"tracksters_in_candidate\"].array(library='np')\n",
    "simTracksters_CP_N = simtrackstersCP[\"stsCP_NTracksters\"].array(library='np')\n",
    "tsAssocMap = associations[\"tsCLUE3D_recoToSim_CP\"].array(library='np')\n",
    "tsAssocQual = associations[\"tsCLUE3D_recoToSim_CP_score\"].array(library='np')"
   ]
  },
  {
   "cell_type": "code",
   "execution_count": null,
   "id": "da4075b6",
   "metadata": {},
   "outputs": [],
   "source": [
    "# Print ntuples\n",
    "event_to_visualize = 190\n",
    "print(\"N tracksters (CLU3D): \", tracksterN[event_to_visualize])\n",
    "#print(\"trackster indices: \", indices[event_to_visualize])\n",
    "print(\"\", z[event_to_visualize])\n",
    "#print(linkedInners[event_to_visualize])\n",
    "#print(linkedOuters[event_to_visualize])\n",
    "print(\"ts in candidate:   \", trackstersInCandidate[event_to_visualize])\n",
    "print(\"ts Reco-Sim assoc: \", tsAssocMap[event_to_visualize])\n",
    "print(\"assoc quality:     \", tsAssocQual[event_to_visualize])\n",
    "print(\"N SimTrackster (from CP):\", simTracksters_CP_N[event_to_visualize])"
   ]
  },
  {
   "cell_type": "code",
   "execution_count": null,
   "id": "ab7c37c9",
   "metadata": {},
   "outputs": [],
   "source": [
    "# Truth graph\n",
    "nodes_truth = []\n",
    "edges_truth = []\n",
    "ts_best_matches = []\n",
    "assoc_threshold = 0.1\n",
    "to_same = []\n",
    "\n",
    "        \n",
    "for i in range(tracksterN[event_to_visualize]):\n",
    "    nodes_truth.append(i)\n",
    "    #qualities = np.array(tsAssocQual[event_to_visualize][i])\n",
    "    qualities = tsAssocQual[event_to_visualize][i]\n",
    "    best_score = np.amin(qualities) #lowest score\n",
    "    #assocmapnp = np.array(tsAssocMap[event_to_visualize][i])\n",
    "    assocmapnp = tsAssocMap[event_to_visualize][i]\n",
    "    best_score_sts = assocmapnp[np.argmin(qualities)] #sts with the lowest score\n",
    "    if best_score < assoc_threshold:\n",
    "        ts_best_matches.append([i, best_score_sts])\n",
    "    else:\n",
    "        ts_best_matches.append([i, -1])\n",
    "        \n",
    "        \n",
    "for sts in range(simTracksters_CP_N[event_to_visualize]+1):\n",
    "    to_same.append([])\n",
    "print(\"Best matches [ts, sts]: \", ts_best_matches)\n",
    "for ts, sts in ts_best_matches:\n",
    "    to_same[sts].append(ts)\n",
    "\n",
    "# tracksters not truth-matched are put in the last element of to_same \n",
    "print(\"associated to_same:\", to_same)\n",
    "\n",
    "for ts_list in to_same[:-1]:\n",
    "    for idx, a in enumerate(ts_list):\n",
    "        for b in ts_list[idx + 1:]:\n",
    "            edges_truth.append([a,b])\n",
    "#print(\"truth edges: \", edges_truth)            "
   ]
  },
  {
   "cell_type": "code",
   "execution_count": null,
   "id": "5691ff7e",
   "metadata": {},
   "outputs": [],
   "source": [
    "# TICLGraph\n",
    "edges = []\n",
    "nodes = []\n",
    "# pos in R-z, nx can't take 3D \n",
    "pos = {i:(z[event_to_visualize][i], np.sqrt(np.square(x[event_to_visualize][i]) + np.square(y[event_to_visualize][i]))) for i in range(tracksterN[event_to_visualize])}\n",
    "for i in range(tracksterN[event_to_visualize]):\n",
    "    nodes.append(i)\n",
    "    #print(np.size(linkedInners[event_to_visualize][i]))\n",
    "    for j in linkedInners[event_to_visualize][i]:\n",
    "        edges.append([j,i])\n",
    "\n",
    "# from TICLCandidates (linking)\n",
    "edgesFromCandidate = []\n",
    "NCandidates = 0\n",
    "trackster_to_cand_map = [i for i in range(tracksterN[event_to_visualize])]\n",
    "for i in trackstersInCandidate[event_to_visualize]:\n",
    "    NCandidates+=1\n",
    "    print(i)\n",
    "    if np.size(i) <= 1:\n",
    "        continue;\n",
    "    else:\n",
    "        for idx, j in enumerate(i):\n",
    "            for k in i[idx+1:]:\n",
    "                #print (j, k)\n",
    "                edgesFromCandidate.append([j,k])\n",
    "            trackster_to_cand_map[j] = NCandidates-1\n",
    "#print(\"edges from candidate: \", edgesFromCandidate)\n",
    "print(\"ts - cand map: \", trackster_to_cand_map)"
   ]
  },
  {
   "cell_type": "code",
   "execution_count": null,
   "id": "a2b2f1d0",
   "metadata": {},
   "outputs": [],
   "source": [
    "G = nx.Graph()\n",
    "G.add_nodes_from(nodes)\n",
    "G.add_edges_from(edges)\n",
    "\n",
    "TruthG = nx.Graph()\n",
    "TruthG.add_nodes_from(nodes_truth)\n",
    "TruthG.add_edges_from(edges_truth)\n",
    "\n",
    "candidateG = nx.Graph()\n",
    "candidateG.add_nodes_from(nodes)\n",
    "candidateG.add_edges_from(edgesFromCandidate)"
   ]
  },
  {
   "cell_type": "code",
   "execution_count": null,
   "id": "a948d10e",
   "metadata": {},
   "outputs": [],
   "source": [
    "# TICLGraph\n",
    "nx.draw(G,pos=pos, with_labels=True)"
   ]
  },
  {
   "cell_type": "code",
   "execution_count": null,
   "id": "94f34543",
   "metadata": {},
   "outputs": [],
   "source": [
    "# Truth Graph\n",
    "nx.draw(TruthG,pos=pos, with_labels=True)"
   ]
  },
  {
   "cell_type": "code",
   "execution_count": null,
   "id": "accd4691",
   "metadata": {},
   "outputs": [],
   "source": [
    "# Graph from TICL Candidate (geometric linking)\n",
    "#nx.draw(candidateG, with_labels=True)"
   ]
  },
  {
   "cell_type": "code",
   "execution_count": null,
   "id": "f95cf0c1",
   "metadata": {},
   "outputs": [],
   "source": [
    "# CLUE3D Tracksters in 3D-cartesian coordinates\n",
    "# colors represent ts->sts associations\n",
    "\n",
    "fig = plt.figure(figsize=(10,10), dpi=80)\n",
    "ax = fig.add_subplot(projection='3d')\n",
    "ax.set_xlabel('X')\n",
    "ax.set_ylabel('Y')\n",
    "ax.set_zlabel('Z')\n",
    "cmap = plt.cm.rainbow\n",
    "norm = matplotlib.colors.Normalize(vmin=0, vmax=simTracksters_CP_N[event_to_visualize])\n",
    "\n",
    "for i in range(tracksterN[event_to_visualize]):\n",
    "    if ts_best_matches[i][1] == -1:\n",
    "        print(\"not matched\")\n",
    "        continue\n",
    "    ax.scatter(x[event_to_visualize][i],y[event_to_visualize][i],z[event_to_visualize][i], color=cmap(norm(ts_best_matches[i])[1]))\n",
    "    ax.text(x[event_to_visualize][i],y[event_to_visualize][i],z[event_to_visualize][i], '%s' % (str(i)), zorder=1, color='k')\n",
    "plt.show()"
   ]
  },
  {
   "cell_type": "code",
   "execution_count": null,
   "id": "10280480",
   "metadata": {},
   "outputs": [],
   "source": [
    "# in R-z, similar to the graph\n",
    "# colors represent ts->sts associations\n",
    "\n",
    "fig = plt.figure(figsize=(6,6), dpi=80)\n",
    "ax = fig.add_subplot()\n",
    "ax.set_xlabel('Z')\n",
    "ax.set_ylabel('R')\n",
    "\n",
    "for i in range(tracksterN[event_to_visualize]):\n",
    "    ax.scatter(z[event_to_visualize][i], np.sqrt(np.square(x[event_to_visualize][i]) + np.square(y[event_to_visualize][i])), color=cmap(norm(ts_best_matches[i][1])))\n",
    "    ax.text(z[event_to_visualize][i], np.sqrt(np.square(x[event_to_visualize][i]) + np.square(y[event_to_visualize][i])), '%s' %(str(i)), zorder=1, color='k')"
   ]
  },
  {
   "cell_type": "code",
   "execution_count": null,
   "id": "49fd280e",
   "metadata": {},
   "outputs": [],
   "source": [
    "# in R-z, similar to the graph -> Geometric linking\n",
    "# colors represent ts->sts associations\n",
    "\n",
    "fig = plt.figure(figsize=(16,8), dpi=80)\n",
    "ax = fig.add_subplot(1, 2, 1)\n",
    "ax.set_xlabel('Z')\n",
    "ax.set_ylabel('R')\n",
    "cmap = plt.cm.rainbow\n",
    "norm = matplotlib.colors.Normalize(vmin=0, vmax=NCandidates-1)\n",
    "\n",
    "for i in range(tracksterN[event_to_visualize]):\n",
    "    ax.scatter(z[event_to_visualize][i], np.sqrt(np.square(x[event_to_visualize][i]) + np.square(y[event_to_visualize][i])), color=cmap(norm(trackster_to_cand_map[i])))\n",
    "    ax.text(z[event_to_visualize][i], np.sqrt(np.square(x[event_to_visualize][i]) + np.square(y[event_to_visualize][i])), '%s' %(str(i)), zorder=1, color='k')\n",
    "    \n",
    "ax = fig.add_subplot(1, 2, 2, projection='3d')\n",
    "ax.set_xlabel('X')\n",
    "ax.set_ylabel('Y')\n",
    "ax.set_zlabel('Z')\n",
    "for i in range(tracksterN[event_to_visualize]):\n",
    "    ax.scatter(x[event_to_visualize][i], y[event_to_visualize][i], z[event_to_visualize][i], color=cmap(norm(trackster_to_cand_map[i])))\n",
    "    ax.text(x[event_to_visualize][i], y[event_to_visualize][i], z[event_to_visualize][i], '%s' %(str(i)), zorder=1, color='k')"
   ]
  },
  {
   "cell_type": "code",
   "execution_count": null,
   "id": "4acd11d7",
   "metadata": {},
   "outputs": [],
   "source": []
  }
 ],
 "metadata": {
  "kernelspec": {
   "display_name": "Python 3",
   "language": "python",
   "name": "python3"
  },
  "language_info": {
   "codemirror_mode": {
    "name": "ipython",
    "version": 3
   },
   "file_extension": ".py",
   "mimetype": "text/x-python",
   "name": "python",
   "nbconvert_exporter": "python",
   "pygments_lexer": "ipython3",
   "version": "3.8.6"
  }
 },
 "nbformat": 4,
 "nbformat_minor": 5
}
