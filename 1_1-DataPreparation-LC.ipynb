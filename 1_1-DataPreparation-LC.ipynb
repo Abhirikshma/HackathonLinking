{
 "cells": [
  {
   "cell_type": "code",
   "execution_count": 1,
   "id": "485d4dc9",
   "metadata": {},
   "outputs": [],
   "source": [
    "import awkward as ak\n",
    "import numpy as np\n",
    "import uproot as uproot\n",
    "import matplotlib\n",
    "import matplotlib.pyplot as plt\n",
    "from utils import mkdir_p\n",
    "import glob\n",
    "from numba import jit\n",
    "import pickle\n",
    "import os, errno\n",
    "import time "
   ]
  },
  {
   "cell_type": "code",
   "execution_count": 2,
   "id": "bf1512dd",
   "metadata": {},
   "outputs": [],
   "source": [
    "# lcs_t -> indices of LCs in trackster\n",
    "# lcs_t_layerId -> layerIds of those LCs\n",
    "# lcs_t_energy -> energies of those LCs\n",
    "# TO DO: accumulate energy by layer id -> tot_en_lay\n",
    "@jit(nopython = True)\n",
    "def get_energy_per_layer(lcs_t_layerId, lcs_t_energy):\n",
    "    t_hgcal_layers = np.zeros(51) # per layer energy of a trackster \n",
    "    for i, e in enumerate(lcs_t_energy):\n",
    "        layer = lcs_t_layerId[i]\n",
    "        t_hgcal_layers[layer] += e\n",
    "        \n",
    "    return t_hgcal_layers\n",
    "    \n",
    "@jit\n",
    "def findNearestNeighbour(i, barycenters_x, barycenters_y, barycenters_z):\n",
    "    # find nn, dist to nn for trackster i\n",
    "    pos_i = np.array([barycenters_x[i], barycenters_y[i], barycenters_z[i]])\n",
    "    d_least = 1000.\n",
    "    for k in range(len(barycenters_x)):\n",
    "        if k == i:\n",
    "            continue\n",
    "        pos_k = np.array([barycenters_x[k], barycenters_y[k], barycenters_z[k]])\n",
    "        del_pos = pos_k - pos_i\n",
    "        d = np.sqrt(del_pos[0]*del_pos[0] + del_pos[1]*del_pos[1] + del_pos[2]*del_pos[2])\n",
    "        if d < d_least:\n",
    "            d_least = d\n",
    "            i_least = k\n",
    "    return i_least, d_least\n",
    "    \n",
    "\n",
    "def computeEdgeAndLabels(trk_data, ass_data, gra_data, nodes, edges, edges_labels, best_simTs_match):\n",
    "    '''Compute the truth graph'''\n",
    "    for i in range(trk_data.NTracksters):\n",
    "        nodes.append(i)\n",
    "        qualities = ass_data.tsCLUE3D_recoToSim_CP_score[i]\n",
    "        best_sts_i = ass_data.tsCLUE3D_recoToSim_CP[i][ak.argmin(qualities)]\n",
    "        best_simTs_match.append(best_sts_i)\n",
    "        #best_sts_i = best_sts_i if qualities[best_sts_i]<0.1 else -1\n",
    "        \n",
    "        for j in gra_data.linked_inners[i]:\n",
    "            edges.append([j,i])\n",
    "            qualities_j = ass_data.tsCLUE3D_recoToSim_CP_score[j]\n",
    "            best_sts_j = ass_data.tsCLUE3D_recoToSim_CP[j][ak.argmin(qualities_j)]\n",
    "            #best_sts_j = best_sts_j if qualities[best_sts_j]<0.1 else -1\n",
    "            if best_sts_i == best_sts_j:\n",
    "                edges_labels.append(1)\n",
    "            else:\n",
    "                edges_labels.append(0)\n",
    "        \n",
    "        if len(gra_data.linked_inners[i]) == 0 and len(gra_data.linked_outers[i]) == 0:\n",
    "            # this trackster does not have any neighbours in the graph, connect it to its nearest neighbour\n",
    "            b_x = ak.to_numpy(trk_data.barycenter_x)\n",
    "            b_y = ak.to_numpy(trk_data.barycenter_y)\n",
    "            b_z = ak.to_numpy(trk_data.barycenter_z)\n",
    "            nearest_id, nearest_dist = findNearestNeighbour(i, b_x, b_y, b_z)\n",
    "            edges.append([i, nearest_id])\n",
    "            qualities_k = ass_data.tsCLUE3D_recoToSim_CP_score[nearest_id]\n",
    "            best_sts_k = ass_data.tsCLUE3D_recoToSim_CP[nearest_id][ak.argmin(qualities_k)]\n",
    "            if best_sts_i == best_sts_k:\n",
    "                edges_labels.append(1)\n",
    "            else:\n",
    "                edges_labels.append(0)"
   ]
  },
  {
   "cell_type": "code",
   "execution_count": 3,
   "id": "0a933e27",
   "metadata": {},
   "outputs": [],
   "source": [
    "np.warnings.filterwarnings('error', category=np.VisibleDeprecationWarning)    "
   ]
  },
  {
   "cell_type": "code",
   "execution_count": null,
   "id": "1fa5b70c",
   "metadata": {
    "scrolled": false
   },
   "outputs": [
    {
     "name": "stdout",
     "output_type": "stream",
     "text": [
      "54 files found!\n"
     ]
    }
   ],
   "source": [
    "#input_folder = \"/eos/cms/store/group/dpg_hgcal/comm_hgcal/hackathon/samples/wredjeb/close_by_two_pions/ntuples_10_600/\"\n",
    "input_folder = \"/eos/cms/store/group/dpg_hgcal/comm_hgcal/hackathon/samples/wredjeb/close_by_two_pions_15cm/ntuples_10_600/\"\n",
    "\n",
    "#files = glob.glob(f\"{input_folder}/*ntuples_*.root\")\n",
    "files = glob.glob(f\"{input_folder}/*merge_*.root\")\n",
    "print(f\"{len(files)} files found!\")\n",
    "\n",
    "\n",
    "X = [ ]\n",
    "Edges = [ ]\n",
    "Edges_labels = [ ]\n",
    "enOnLayers = [ ]\n",
    "\n",
    "outputPath  = './dataset_closeByDoublePion_LC/'\n",
    "mkdir_p(outputPath)\n",
    "\n",
    "cum_events = 0\n",
    "\n",
    "N = 10000\n",
    "offset = 19\n",
    "for i_file, file in enumerate(files[offset:]):\n",
    "    i_file = i_file + offset\n",
    "    if i_file >= N: break\n",
    "    try:\n",
    "        with uproot.open(file) as f:\n",
    "        #f = uproot.open(file)\n",
    "            t =  f[\"ticlNtuplizer/tracksters\"]\n",
    "            calo = f[\"ticlNtuplizer/simtrackstersCP\"]\n",
    "            ass = f[\"ticlNtuplizer/associations\"]\n",
    "            gra = f[\"ticlNtuplizer/graph\"]\n",
    "            l = f['ticlNtuplizer/clusters']\n",
    "\n",
    "            trk_data = t.arrays([\"NTracksters\", \"raw_energy\",\"raw_em_energy\",\"barycenter_x\",\"barycenter_y\",\"barycenter_z\",\"eVector0_x\", \"eVector0_y\",\"eVector0_z\",\"EV1\",\"EV2\",\"EV3\",\"vertices_indexes\", \"sigmaPCA1\", \"sigmaPCA2\", \"sigmaPCA3\"])\n",
    "            gra_data = gra.arrays(['linked_inners', 'linked_outers'])\n",
    "            ass_data = ass.arrays([ \"tsCLUE3D_recoToSim_CP\", \"tsCLUE3D_recoToSim_CP_score\"])\n",
    "            lcs_t = t.arrays(['vertices_indexes'])\n",
    "            lcs = l.arrays(['energy', 'cluster_layer_id'])\n",
    "            \n",
    "            print(f\"file {file} num events {len(trk_data)}\")\n",
    "\n",
    "    except:\n",
    "        print(\"error \", file)\n",
    "        continue\n",
    "    print('\\nProcessing file {} '.format(file), end=\"\")\n",
    "    if(cum_events%1000 == 0):\n",
    "        print(f\"\\nEvents {cum_events}\")\n",
    "    \n",
    "    start = time.time()\n",
    "    for ev in range(len(gra_data)):\n",
    "        cum_events += 1\n",
    "        print(\".\", end=\"\")\n",
    "        \n",
    "        trackster_sizes = []\n",
    "        lcs_ev = lcs[ev]\n",
    "        tot_en_lay = [] # energy by layer of all tracksters in this event, dim= NTracksters, 51\n",
    "        \n",
    "                \n",
    "        for vertices in trk_data[ev].vertices_indexes:\n",
    "            # vertices is the list of vertices in a trackster\n",
    "            trackster_sizes.append(ak.size(vertices))      \n",
    "            lcs_t = lcs_ev[vertices]\n",
    "            #lcs_t_layerId = ak.to_numpy(lcs_t.cluster_layer_id)\n",
    "            #lcs_t_energy = ak.to_numpy(lcs_t.energy)\n",
    "            tot_en_lay.append(get_energy_per_layer(lcs_t.cluster_layer_id, lcs_t.energy))\n",
    "        \n",
    "        #print(f\"Ntracksters {trk_data[ev].NTracksters} tot_en_layers shape {np.shape(tot_en_lay)}\")\n",
    "\n",
    "        best_sim_ts = []\n",
    "        nodes = []\n",
    "        edges = []\n",
    "        edges_labels = []        \n",
    "        computeEdgeAndLabels(trk_data[ev], ass_data[ev], gra_data[ev], nodes, edges, edges_labels, best_sim_ts)\n",
    "        # Save the input variables\n",
    "        \n",
    "\n",
    "        x_ev = ak.zip({  \"barycenter_x\": trk_data[ev].barycenter_x,\n",
    "                         \"barycenter_y\": trk_data[ev].barycenter_y,\n",
    "                         \"barycenter_z\": trk_data[ev].barycenter_z,\n",
    "                       \"eVector0_x\": trk_data[ev].eVector0_x,\n",
    "                       \"eVector0_y\": trk_data[ev].eVector0_y,\n",
    "                       \"eVector0_z\": trk_data[ev].eVector0_z,\n",
    "                       \"EV1\": trk_data[ev].EV1,\n",
    "                       \"EV2\": trk_data[ev].EV2,\n",
    "                       \"EV3\": trk_data[ev].EV3,\n",
    "                       \"sigmaPCA1\": trk_data[ev].sigmaPCA1,\n",
    "                       \"sigmaPCA2\": trk_data[ev].sigmaPCA2,\n",
    "                       \"sigmaPCA3\": trk_data[ev].sigmaPCA3,\n",
    "                       \"size\": trackster_sizes,\n",
    "                       \"raw_en\": trk_data[ev].raw_energy, \n",
    "                       'raw_em_energy': trk_data[ev].raw_em_energy,\n",
    "                       \"best_sim_ts\" : best_sim_ts\n",
    "                      })\n",
    "\n",
    "        X.append(x_ev)        \n",
    "        \n",
    "        ed_np = np.array(edges).T\n",
    "        Edges.append(ed_np)\n",
    "        Edges_labels.append(edges_labels)     \n",
    "        enOnLayers.append(tot_en_lay) # accumulates by event\n",
    "        # Save to disk\n",
    "        if((len(X) % 500 == 0 and cum_events != 0)):\n",
    "            stop = time.time()\n",
    "            print(f\"t = {stop-start}\")\n",
    "            print(\"Saving now the pickle data\")\n",
    "\n",
    "            pickle_dir = outputPath\n",
    "            with open(pickle_dir+\"{}_{}_node_features.pkl\".format(str(i_file), str(cum_events)), \"wb\") as fp:   #Pickling\n",
    "                pickle.dump(X, fp)\n",
    "            with open(pickle_dir+\"{}_{}_edges.pkl\".format(str(i_file),str(cum_events)), \"wb\") as fp:   #Pickling\n",
    "                pickle.dump(Edges, fp)\n",
    "            with open(pickle_dir+\"{}_{}_edges_labels.pkl\".format(str(i_file),str(cum_events)), \"wb\") as fp:   #Pickling\n",
    "                pickle.dump(Edges_labels, fp)\n",
    "            with open(pickle_dir+\"{}_{}_energies_on_layers.pkl\".format(str(i_file),str(cum_events)), \"wb\") as fp:   #Pickling\n",
    "                pickle.dump(enOnLayers, fp)\n",
    "            \n",
    "            #Emptying arrays\n",
    "            ed_np = []\n",
    "            X = []\n",
    "            Edges = []\n",
    "            Edges_labels = []\n",
    "            enOnLayers = []\n",
    "            start = time.time()"
   ]
  },
  {
   "cell_type": "markdown",
   "id": "6a2c3af2",
   "metadata": {},
   "source": [
    "### Test"
   ]
  },
  {
   "cell_type": "code",
   "execution_count": 22,
   "id": "df0424fc",
   "metadata": {},
   "outputs": [
    {
     "name": "stdout",
     "output_type": "stream",
     "text": [
      "(42, 51)\n",
      "200\n"
     ]
    },
    {
     "data": {
      "image/png": "[encoded data removed]",
      "text/plain": [
       "<Figure size 432x288 with 1 Axes>"
      ]
     },
     "metadata": {
      "needs_background": "light"
     },
     "output_type": "display_data"
    }
   ],
   "source": [
    "plt.imshow(tot_en_lay)\n",
    "print(np.shape(tot_en_lay))\n",
    "print(np.shape(X)[0])"
   ]
  },
  {
   "cell_type": "code",
   "execution_count": 19,
   "id": "ba2d6cae",
   "metadata": {},
   "outputs": [
    {
     "name": "stdout",
     "output_type": "stream",
     "text": [
      "19\n"
     ]
    },
    {
     "data": {
      "text/plain": [
       "<matplotlib.image.AxesImage at 0x7f96e1e46b50>"
      ]
     },
     "execution_count": 19,
     "metadata": {},
     "output_type": "execute_result"
    },
    {
     "data": {
      "image/png": "[encoded data removed]",
      "text/plain": [
       "<Figure size 432x288 with 1 Axes>"
      ]
     },
     "metadata": {
      "needs_background": "light"
     },
     "output_type": "display_data"
    }
   ],
   "source": [
    "print(len(enOnLayers[99]))\n",
    "plt.imshow(enOnLayers[99])"
   ]
  },
  {
   "cell_type": "code",
   "execution_count": null,
   "id": "d28049f2",
   "metadata": {},
   "outputs": [],
   "source": [
    "x = X[0]"
   ]
  },
  {
   "cell_type": "code",
   "execution_count": null,
   "id": "56f19451",
   "metadata": {},
   "outputs": [],
   "source": [
    "plt.plot(np.arange(0,51), x.energy_on_layer[4])"
   ]
  }
 ],
 "metadata": {
  "kernelspec": {
   "display_name": "Python 3",
   "language": "python",
   "name": "python3"
  },
  "language_info": {
   "codemirror_mode": {
    "name": "ipython",
    "version": 3
   },
   "file_extension": ".py",
   "mimetype": "text/x-python",
   "name": "python",
   "nbconvert_exporter": "python",
   "pygments_lexer": "ipython3",
   "version": "3.9.12"
  }
 },
 "nbformat": 4,
 "nbformat_minor": 5
}
