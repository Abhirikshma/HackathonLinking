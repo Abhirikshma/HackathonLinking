{
 "cells": [
  {
   "cell_type": "code",
   "execution_count": 1,
   "id": "8e7d83a8",
   "metadata": {},
   "outputs": [],
   "source": [
    "import os.path as osp\n",
    "from utils import loadData\n",
    "import numpy as np\n",
    "from sklearn.preprocessing import StandardScaler\n",
    "import pickle\n",
    "import uproot\n",
    "import awkward as ak\n",
    "import torch\n",
    "from numba import jit\n",
    "from torch_geometric.data import Dataset, download_url, InMemoryDataset\n",
    "from torch_geometric.data import Data, HeteroData\n",
    "from torch_geometric.loader import DataLoader\n",
    "import matplotlib.pyplot as plt\n",
    "import mplhep as hep\n",
    "plt.style.use(hep.style.CMS)"
   ]
  },
  {
   "cell_type": "code",
   "execution_count": 2,
   "id": "10959734",
   "metadata": {},
   "outputs": [
    {
     "name": "stdout",
     "output_type": "stream",
     "text": [
      "===== Loading Files ...\n",
      "===== Loaded!\n"
     ]
    }
   ],
   "source": [
    "pickle_data = './dataset_closeByDoublePion_LC/'\n",
    "\n",
    "\n",
    "print(\"===== Loading Files ...\")\n",
    "el, e, nf, en_lay = loadData(pickle_data, num_files = -1, lc_data = True)\n",
    "print(\"===== Loaded!\")"
   ]
  },
  {
   "cell_type": "code",
   "execution_count": 3,
   "id": "7765d77c",
   "metadata": {},
   "outputs": [
    {
     "name": "stdout",
     "output_type": "stream",
     "text": [
      "Preparing dataset ...\n",
      "154500 total events in dataset\n"
     ]
    }
   ],
   "source": [
    "edge_data = []\n",
    "edge_label = []\n",
    "node_data = []\n",
    "en_layers = []\n",
    "print(\"Preparing dataset ...\")\n",
    "for i,X in enumerate(nf):\n",
    "    for ev in range(len(X)):\n",
    "        if len(e[i][ev]) == 0:\n",
    "            print(f\"event {ev} edges {e[i][ev]}\")\n",
    "            continue # skip events with no edges\n",
    "        else:\n",
    "            X_ev = []\n",
    "            edge_data.append(e[i][ev])\n",
    "            edge_label.append([np.float32(edg) for edg in el[i][ev]])\n",
    "            en_layers.append(en_lay[i][ev])\n",
    "            for field in X[ev].fields:\n",
    "                if \"sigma\" in field:\n",
    "                    continue\n",
    "                X_ev.append(np.float32(ak.to_numpy(X[ev][field])))\n",
    "            node_data.append(X_ev)\n",
    "\n",
    "print(f\"{len(node_data)} total events in dataset\")"
   ]
  },
  {
   "cell_type": "code",
   "execution_count": 9,
   "id": "a8f3feff",
   "metadata": {},
   "outputs": [
    {
     "data": {
      "text/plain": [
       "Text(0, 1, 'Sum LC Energy')"
      ]
     },
     "execution_count": 9,
     "metadata": {},
     "output_type": "execute_result"
    },
    {
     "data": {
      "image/png": "[encoded data removed]",
      "text/plain": [
       "<Figure size 720x720 with 1 Axes>"
      ]
     },
     "metadata": {
      "needs_background": "light"
     },
     "output_type": "display_data"
    }
   ],
   "source": [
    "plt.scatter(np.arange(0,51), en_layers[0][3])\n",
    "plt.xlabel(\"HGCal layer\")\n",
    "plt.ylabel(\"Sum LC Energy\")"
   ]
  },
  {
   "cell_type": "code",
   "execution_count": 4,
   "id": "423c04c7",
   "metadata": {},
   "outputs": [],
   "source": [
    "@jit(nopython=True)\n",
    "def get_shower_max_extent(en_lay_ts):\n",
    "    shower_max = np.argmax(en_lay_ts)\n",
    "    last_layer = 50\n",
    "    start = 0\n",
    "    for l, e in enumerate(en_lay_ts):\n",
    "        if e > 0:\n",
    "            start = l\n",
    "            break\n",
    "    stop = 0\n",
    "    for l in range(len(en_lay_ts)):\n",
    "        if en_lay_ts[-(l+1)] > 0:\n",
    "            stop = last_layer - l\n",
    "            break\n",
    "    if stop < start:\n",
    "        stop = start\n",
    "    \n",
    "    return shower_max, start, stop"
   ]
  },
  {
   "cell_type": "code",
   "execution_count": null,
   "id": "cafd9260",
   "metadata": {
    "scrolled": true
   },
   "outputs": [],
   "source": [
    "data_list = []\n",
    "dataLay_list = []\n",
    "trainRatio = 0.8\n",
    "valRatio = 0.1\n",
    "testRatio = 0.1\n",
    "\n",
    "nSamples = len(node_data)\n",
    "\n",
    "nTrain = int( trainRatio * nSamples  )\n",
    "nVal = int( valRatio * nSamples )\n",
    "\n",
    "for ev in range(len(node_data[:nTrain+nVal])):\n",
    "    x_np = np.array(node_data[ev]).T\n",
    "    x_coord_slice = x_np[:, [0,1,2]]\n",
    "    x_rest_slice = x_np[:, [9,10,11]]\n",
    "    x_en_lay = np.array(en_layers[ev])\n",
    "            \n",
    "    #x_en_lay_windowed = []\n",
    "    x_en_lay_digest = []\n",
    "    \n",
    "    for ts, en_lay_ts in enumerate(x_en_lay):\n",
    "        \n",
    "        max_lay, start, stop = get_shower_max_extent(en_lay_ts)\n",
    "        #print(f\"max {max_lay} start {start} stop {stop} len {stop-start} E {np.sum(en_lay_ts)}\")\n",
    "        x_en_lay_digest.append([max_lay, stop-start])\n",
    "\n",
    "        '''\n",
    "        maxe = en_lay_ts[maxe_lays[ts]]\n",
    "        en_lay_windowed = [e/maxe for lay, e in enumerate(en_lay_ts) if (maxe_lays[ts] - 5 < lay and lay < maxe_lays[ts] + 5)]\n",
    "        \n",
    "        filter_len = 9\n",
    "        w_len = len(en_lay_windowed)\n",
    "        if w_len < filter_len: # max e layer is too close to front/back\n",
    "            # zero pad at the end\n",
    "            en_lay_windowed = np.pad(en_lay_windowed, (0, filter_len-w_len))\n",
    "        x_en_lay_windowed.append(en_lay_windowed)\n",
    "        '''\n",
    "        \n",
    "    #x_en_lay_windowed = np.array(x_en_lay_windowed)\n",
    "    \n",
    "    scaler = StandardScaler()\n",
    "    scaler.fit(x_coord_slice)\n",
    "    x_coord_norm = scaler.transform(x_coord_slice)\n",
    "    \n",
    "    scaler.fit(x_rest_slice)\n",
    "    x_rest_norm = scaler.transform(x_rest_slice)\n",
    "     \n",
    "    x_norm = np.concatenate((x_coord_norm, x_np[:,[3,4,5,6,7,8]], x_rest_norm), axis=1)\n",
    "    \n",
    "    x = torch.from_numpy(x_norm)\n",
    "    e_label = torch.from_numpy(np.array(edge_label[ev]))\n",
    "    edge_index = torch.from_numpy(edge_data[ev])\n",
    "    data = Data(x=x, num_nodes=torch.tensor(x.shape[0]), edge_index=edge_index, edge_label=e_label, en_hgcal_layers = torch.from_numpy(np.array(x_en_lay_digest)))\n",
    "    dataLay = Data(en_hgcal_layers = x_en_lay)\n",
    "    data_list.append(data)\n",
    "    dataLay_list.append(dataLay)\n",
    "    \n",
    "# test split is not normalized here\n",
    "test_data_list = []\n",
    "for ev in range(len(node_data[nTrain+nVal:])):\n",
    "    x_np = np.array(node_data[ev]).T\n",
    "    #x_en_lay = torch.from_numpy(np.array(en_layers[ev]))\n",
    "    x_en_lay = np.array(en_layers[ev])\n",
    "            \n",
    "    x_en_lay_digest = []\n",
    "    \n",
    "    for ts, en_lay_ts in enumerate(x_en_lay):\n",
    "        max_lay, start, stop = get_shower_max_extent(en_lay_ts)\n",
    "        x_en_lay_digest.append([max_lay, stop-start])\n",
    "        \n",
    "    '''\n",
    "    x_coord_slice = x_np[:, [0,1,2]]\n",
    "    x_rest_slice = x_np[:, [9,10,11,12,13,14]]\n",
    "    \n",
    "    scaler = StandardScaler()\n",
    "    scaler.fit(x_coord_slice)\n",
    "    x_coord_norm = scaler.transform(x_coord_slice)\n",
    "\n",
    "    scaler.fit(x_rest_slice)\n",
    "    x_rest_norm = scaler.transform(x_rest_slice)\n",
    "     \n",
    "    x_norm = np.concatenate((x_coord_norm, x_np[:,[3,4,5,6,7,8]], x_rest_norm), axis=1)\n",
    "    '''\n",
    "    \n",
    "    #x = torch.from_numpy(x_np)\n",
    "    #e_label = torch.from_numpy(np.array(edge_label[ev]))\n",
    "    #edge_index = torch.from_numpy(edge_data[ev])\n",
    "    #data = Data(x=x, num_nodes=torch.tensor(x.shape[0]), edge_index=edge_index, edge_label=e_label)\n",
    "    data = [x_np, np.array(edge_label[ev]), edge_data[ev], x_en_lay_digest]\n",
    "    test_data_list.append(data)\n",
    "\n",
    "\n",
    "\n",
    "trainDataset = data_list[:nTrain]           # training dataset\n",
    "trainDatasetLay = dataLay_list[:nTrain]           # training dataset\n",
    "valDataset = data_list[nTrain:]  # validation dataset\n",
    "testDataset = test_data_list       # test datase\n",
    "\n",
    "path = \"./dataProcessed_closeByDoublePion_LC/\"\n",
    "torch.save(trainDataset, path + 'dataTraining.pt')\n",
    "torch.save(trainDatasetLay, path + 'dataTrainingLay.pt')\n",
    "torch.save(valDataset, path + 'dataVal.pt')\n",
    "torch.save(testDataset, path + 'dataTest.pt')\n",
    "print(\"===== Saved dataset!\")"
   ]
  },
  {
   "cell_type": "code",
   "execution_count": null,
   "id": "ea07f9ba",
   "metadata": {},
   "outputs": [],
   "source": []
  }
 ],
 "metadata": {
  "kernelspec": {
   "display_name": "Python 3",
   "language": "python",
   "name": "python3"
  },
  "language_info": {
   "codemirror_mode": {
    "name": "ipython",
    "version": 3
   },
   "file_extension": ".py",
   "mimetype": "text/x-python",
   "name": "python",
   "nbconvert_exporter": "python",
   "pygments_lexer": "ipython3",
   "version": "3.9.12"
  }
 },
 "nbformat": 4,
 "nbformat_minor": 5
}
